{
 "cells": [
  {
   "cell_type": "markdown",
   "metadata": {
    "id": "LvhuDvTUGJUF"
   },
   "source": [
    "#EasyNMT - Example (Opus-MT Model)\n",
    "This notebook shows the usage of [EasyNMT](https://github.com/UKPLab/EasyNMT) for machine translation.\n",
    "\n",
    "Here, we use the [Opus-MT model](https://github.com/Helsinki-NLP/Opus-MT). The Helsiniki-NLP group provides 1200+ pre-trained models for various language directions (e.g. en-de, es-fr, ru-fr). Each model has a size of about 300 MB.\n",
    "\n",
    "We make the usage of the models easy: The suitable model needed for your translation is loaded automatically and kept in memory for future use."
   ]
  },
  {
   "cell_type": "markdown",
   "metadata": {
    "id": "ondZjTFKJGma"
   },
   "source": [
    "# Colab with GPU\n",
    "When running this notebook in colab, ensure that you run it with a GPU as hardware accelerator. To enable this:\n",
    "- Navigate to Edit → Notebook Settings\n",
    "- select GPU from the Hardware Accelerator drop-down\n",
    "\n",
    "With `!nvidia-smi` we can check which GPU was assigned to us in Colab."
   ]
  },
  {
   "cell_type": "code",
   "execution_count": null,
   "metadata": {
    "colab": {
     "base_uri": "https://localhost:8080/"
    },
    "id": "Sc745ZyOIhKF",
    "outputId": "0aea72a1-bf21-4b2e-f557-50ecd6839aad"
   },
   "outputs": [
    {
     "name": "stdout",
     "output_type": "stream",
     "text": [
      "Mon Oct 20 13:18:03 2025       \n",
      "+-----------------------------------------------------------------------------------------+\n",
      "| NVIDIA-SMI 550.54.15              Driver Version: 550.54.15      CUDA Version: 12.4     |\n",
      "|-----------------------------------------+------------------------+----------------------+\n",
      "| GPU  Name                 Persistence-M | Bus-Id          Disp.A | Volatile Uncorr. ECC |\n",
      "| Fan  Temp   Perf          Pwr:Usage/Cap |           Memory-Usage | GPU-Util  Compute M. |\n",
      "|                                         |                        |               MIG M. |\n",
      "|=========================================+========================+======================|\n",
      "|   0  Tesla T4                       Off |   00000000:00:04.0 Off |                    0 |\n",
      "| N/A   43C    P8              9W /   70W |       0MiB /  15360MiB |      0%      Default |\n",
      "|                                         |                        |                  N/A |\n",
      "+-----------------------------------------+------------------------+----------------------+\n",
      "                                                                                         \n",
      "+-----------------------------------------------------------------------------------------+\n",
      "| Processes:                                                                              |\n",
      "|  GPU   GI   CI        PID   Type   Process name                              GPU Memory |\n",
      "|        ID   ID                                                               Usage      |\n",
      "|=========================================================================================|\n",
      "|  No running processes found                                                             |\n",
      "+-----------------------------------------------------------------------------------------+\n"
     ]
    }
   ],
   "source": [
    "!nvidia-smi"
   ]
  },
  {
   "cell_type": "markdown",
   "metadata": {
    "id": "FjCP8ZehIzJS"
   },
   "source": [
    "# Installation\n",
    "You can install EasyNMT by using pip. EasyNMT is using Pytorch. If you have a GPU available on your local machine, have a look at [PyTorch Get Started](https://pytorch.org/get-started/locally/) how to install PyTorch with CUDA support."
   ]
  },
  {
   "cell_type": "code",
   "execution_count": null,
   "metadata": {
    "colab": {
     "base_uri": "https://localhost:8080/"
    },
    "id": "5KUU4nqKkXPD",
    "outputId": "d3e10130-3385-4a24-be3f-2aa7f936d44b"
   },
   "outputs": [
    {
     "name": "stdout",
     "output_type": "stream",
     "text": [
      "Collecting easynmt\n",
      "  Downloading EasyNMT-2.0.2.tar.gz (23 kB)\n",
      "  Preparing metadata (setup.py) ... \u001b[?25l\u001b[?25hdone\n",
      "Requirement already satisfied: tqdm in /usr/local/lib/python3.12/dist-packages (from easynmt) (4.67.1)\n",
      "Requirement already satisfied: transformers<5,>=4.4 in /usr/local/lib/python3.12/dist-packages (from easynmt) (4.57.1)\n",
      "Requirement already satisfied: torch>=1.6.0 in /usr/local/lib/python3.12/dist-packages (from easynmt) (2.8.0+cu126)\n",
      "Requirement already satisfied: numpy in /usr/local/lib/python3.12/dist-packages (from easynmt) (2.0.2)\n",
      "Requirement already satisfied: nltk in /usr/local/lib/python3.12/dist-packages (from easynmt) (3.9.1)\n",
      "Requirement already satisfied: sentencepiece in /usr/local/lib/python3.12/dist-packages (from easynmt) (0.2.1)\n",
      "Collecting fasttext (from easynmt)\n",
      "  Downloading fasttext-0.9.3.tar.gz (73 kB)\n",
      "\u001b[2K     \u001b[90m━━━━━━━━━━━━━━━━━━━━━━━━━━━━━━━━━━━━━━━━\u001b[0m \u001b[32m73.4/73.4 kB\u001b[0m \u001b[31m3.1 MB/s\u001b[0m eta \u001b[36m0:00:00\u001b[0m\n",
      "\u001b[?25h  Installing build dependencies ... \u001b[?25l\u001b[?25hdone\n",
      "  Getting requirements to build wheel ... \u001b[?25l\u001b[?25hdone\n",
      "  Preparing metadata (pyproject.toml) ... \u001b[?25l\u001b[?25hdone\n",
      "Requirement already satisfied: protobuf in /usr/local/lib/python3.12/dist-packages (from easynmt) (5.29.5)\n",
      "Requirement already satisfied: filelock in /usr/local/lib/python3.12/dist-packages (from torch>=1.6.0->easynmt) (3.20.0)\n",
      "Requirement already satisfied: typing-extensions>=4.10.0 in /usr/local/lib/python3.12/dist-packages (from torch>=1.6.0->easynmt) (4.15.0)\n",
      "Requirement already satisfied: setuptools in /usr/local/lib/python3.12/dist-packages (from torch>=1.6.0->easynmt) (75.2.0)\n",
      "Requirement already satisfied: sympy>=1.13.3 in /usr/local/lib/python3.12/dist-packages (from torch>=1.6.0->easynmt) (1.13.3)\n",
      "Requirement already satisfied: networkx in /usr/local/lib/python3.12/dist-packages (from torch>=1.6.0->easynmt) (3.5)\n",
      "Requirement already satisfied: jinja2 in /usr/local/lib/python3.12/dist-packages (from torch>=1.6.0->easynmt) (3.1.6)\n",
      "Requirement already satisfied: fsspec in /usr/local/lib/python3.12/dist-packages (from torch>=1.6.0->easynmt) (2025.3.0)\n",
      "Requirement already satisfied: nvidia-cuda-nvrtc-cu12==12.6.77 in /usr/local/lib/python3.12/dist-packages (from torch>=1.6.0->easynmt) (12.6.77)\n",
      "Requirement already satisfied: nvidia-cuda-runtime-cu12==12.6.77 in /usr/local/lib/python3.12/dist-packages (from torch>=1.6.0->easynmt) (12.6.77)\n",
      "Requirement already satisfied: nvidia-cuda-cupti-cu12==12.6.80 in /usr/local/lib/python3.12/dist-packages (from torch>=1.6.0->easynmt) (12.6.80)\n",
      "Requirement already satisfied: nvidia-cudnn-cu12==9.10.2.21 in /usr/local/lib/python3.12/dist-packages (from torch>=1.6.0->easynmt) (9.10.2.21)\n",
      "Requirement already satisfied: nvidia-cublas-cu12==12.6.4.1 in /usr/local/lib/python3.12/dist-packages (from torch>=1.6.0->easynmt) (12.6.4.1)\n",
      "Requirement already satisfied: nvidia-cufft-cu12==11.3.0.4 in /usr/local/lib/python3.12/dist-packages (from torch>=1.6.0->easynmt) (11.3.0.4)\n",
      "Requirement already satisfied: nvidia-curand-cu12==10.3.7.77 in /usr/local/lib/python3.12/dist-packages (from torch>=1.6.0->easynmt) (10.3.7.77)\n",
      "Requirement already satisfied: nvidia-cusolver-cu12==11.7.1.2 in /usr/local/lib/python3.12/dist-packages (from torch>=1.6.0->easynmt) (11.7.1.2)\n",
      "Requirement already satisfied: nvidia-cusparse-cu12==12.5.4.2 in /usr/local/lib/python3.12/dist-packages (from torch>=1.6.0->easynmt) (12.5.4.2)\n",
      "Requirement already satisfied: nvidia-cusparselt-cu12==0.7.1 in /usr/local/lib/python3.12/dist-packages (from torch>=1.6.0->easynmt) (0.7.1)\n",
      "Requirement already satisfied: nvidia-nccl-cu12==2.27.3 in /usr/local/lib/python3.12/dist-packages (from torch>=1.6.0->easynmt) (2.27.3)\n",
      "Requirement already satisfied: nvidia-nvtx-cu12==12.6.77 in /usr/local/lib/python3.12/dist-packages (from torch>=1.6.0->easynmt) (12.6.77)\n",
      "Requirement already satisfied: nvidia-nvjitlink-cu12==12.6.85 in /usr/local/lib/python3.12/dist-packages (from torch>=1.6.0->easynmt) (12.6.85)\n",
      "Requirement already satisfied: nvidia-cufile-cu12==1.11.1.6 in /usr/local/lib/python3.12/dist-packages (from torch>=1.6.0->easynmt) (1.11.1.6)\n",
      "Requirement already satisfied: triton==3.4.0 in /usr/local/lib/python3.12/dist-packages (from torch>=1.6.0->easynmt) (3.4.0)\n",
      "Requirement already satisfied: huggingface-hub<1.0,>=0.34.0 in /usr/local/lib/python3.12/dist-packages (from transformers<5,>=4.4->easynmt) (0.35.3)\n",
      "Requirement already satisfied: packaging>=20.0 in /usr/local/lib/python3.12/dist-packages (from transformers<5,>=4.4->easynmt) (25.0)\n",
      "Requirement already satisfied: pyyaml>=5.1 in /usr/local/lib/python3.12/dist-packages (from transformers<5,>=4.4->easynmt) (6.0.3)\n",
      "Requirement already satisfied: regex!=2019.12.17 in /usr/local/lib/python3.12/dist-packages (from transformers<5,>=4.4->easynmt) (2024.11.6)\n",
      "Requirement already satisfied: requests in /usr/local/lib/python3.12/dist-packages (from transformers<5,>=4.4->easynmt) (2.32.4)\n",
      "Requirement already satisfied: tokenizers<=0.23.0,>=0.22.0 in /usr/local/lib/python3.12/dist-packages (from transformers<5,>=4.4->easynmt) (0.22.1)\n",
      "Requirement already satisfied: safetensors>=0.4.3 in /usr/local/lib/python3.12/dist-packages (from transformers<5,>=4.4->easynmt) (0.6.2)\n",
      "Collecting pybind11>=2.2 (from fasttext->easynmt)\n",
      "  Using cached pybind11-3.0.1-py3-none-any.whl.metadata (10.0 kB)\n",
      "Requirement already satisfied: click in /usr/local/lib/python3.12/dist-packages (from nltk->easynmt) (8.3.0)\n",
      "Requirement already satisfied: joblib in /usr/local/lib/python3.12/dist-packages (from nltk->easynmt) (1.5.2)\n",
      "Requirement already satisfied: hf-xet<2.0.0,>=1.1.3 in /usr/local/lib/python3.12/dist-packages (from huggingface-hub<1.0,>=0.34.0->transformers<5,>=4.4->easynmt) (1.1.10)\n",
      "Requirement already satisfied: mpmath<1.4,>=1.1.0 in /usr/local/lib/python3.12/dist-packages (from sympy>=1.13.3->torch>=1.6.0->easynmt) (1.3.0)\n",
      "Requirement already satisfied: MarkupSafe>=2.0 in /usr/local/lib/python3.12/dist-packages (from jinja2->torch>=1.6.0->easynmt) (3.0.3)\n",
      "Requirement already satisfied: charset_normalizer<4,>=2 in /usr/local/lib/python3.12/dist-packages (from requests->transformers<5,>=4.4->easynmt) (3.4.4)\n",
      "Requirement already satisfied: idna<4,>=2.5 in /usr/local/lib/python3.12/dist-packages (from requests->transformers<5,>=4.4->easynmt) (3.11)\n",
      "Requirement already satisfied: urllib3<3,>=1.21.1 in /usr/local/lib/python3.12/dist-packages (from requests->transformers<5,>=4.4->easynmt) (2.5.0)\n",
      "Requirement already satisfied: certifi>=2017.4.17 in /usr/local/lib/python3.12/dist-packages (from requests->transformers<5,>=4.4->easynmt) (2025.10.5)\n",
      "Using cached pybind11-3.0.1-py3-none-any.whl (293 kB)\n",
      "Building wheels for collected packages: easynmt, fasttext\n",
      "  Building wheel for easynmt (setup.py) ... \u001b[?25l\u001b[?25hdone\n",
      "  Created wheel for easynmt: filename=EasyNMT-2.0.2-py3-none-any.whl size=19898 sha256=06fbec9cb11232004bb498496ff9799d535045f95b405b5dc6d538168525c768\n",
      "  Stored in directory: /root/.cache/pip/wheels/1c/5c/5d/d698bb79f4c9ddc0b910bb71d1ddb9048fb3bc7b0ed7ce40ea\n",
      "  Building wheel for fasttext (pyproject.toml) ... \u001b[?25l\u001b[?25hdone\n",
      "  Created wheel for fasttext: filename=fasttext-0.9.3-cp312-cp312-linux_x86_64.whl size=4498207 sha256=4120d300466d44f5e07c033ace6fcbdd05bd7750f3ee2d1bf2bc84599901aff7\n",
      "  Stored in directory: /root/.cache/pip/wheels/20/27/95/a7baf1b435f1cbde017cabdf1e9688526d2b0e929255a359c6\n",
      "Successfully built easynmt fasttext\n",
      "Installing collected packages: pybind11, fasttext, easynmt\n",
      "Successfully installed easynmt-2.0.2 fasttext-0.9.3 pybind11-3.0.1\n"
     ]
    }
   ],
   "source": [
    "!pip install -U easynmt"
   ]
  },
  {
   "cell_type": "markdown",
   "metadata": {
    "id": "wF2ngl3sIh65"
   },
   "source": [
    "# Create EasyNMT instance\n",
    "\n",
    "Creating an EasyNMT instance and loading a model is easy. You pass the model name you want to use and all needed files are downloaded and cached locally."
   ]
  },
  {
   "cell_type": "code",
   "execution_count": null,
   "metadata": {
    "colab": {
     "base_uri": "https://localhost:8080/"
    },
    "id": "qh7kAqp3kjS2",
    "outputId": "10e84a37-7a94-4442-ab9a-c54b69b0877e"
   },
   "outputs": [
    {
     "name": "stderr",
     "output_type": "stream",
     "text": [
      "11.9kB [00:00, 14.4MB/s]                   \n"
     ]
    }
   ],
   "source": [
    "from easynmt import EasyNMT\n",
    "model = EasyNMT('opus-mt',cache_folder=\"./\")"
   ]
  },
  {
   "cell_type": "markdown",
   "metadata": {
    "id": "pjutfZVCJCp4"
   },
   "source": [
    "# Sentence Translation\n",
    "When you have individual sentences to translate, you can call the method `translate_sentences`."
   ]
  },
  {
   "cell_type": "code",
   "execution_count": null,
   "metadata": {
    "colab": {
     "base_uri": "https://localhost:8080/",
     "height": 432,
     "referenced_widgets": [
      "ba22b3f8a8c843bbafccded4ed8d1b00",
      "3b9b2f253a954eb19c296229956bff33",
      "67db4c94e15f4465a40ce8fe33bfe406",
      "9cdaeaf045c34d15996118758a6c724d",
      "92e4f76bfd01452fac0fa55bdc03d567",
      "4a566a4fa0a84a888941b1515527dc70",
      "c340e38878c14a4788a8c4dba764b87a",
      "7b11055e60b6416cbc9405e94666562d",
      "66a64d5a8f3741f4b5083460b2a7a98c",
      "f5b3dd832068407fad204affd4c1aa67",
      "ca0502280c3c40319baa49a49c082339",
      "583c1202c8f042e38c240d3a4ada4275",
      "c71abb714bae4a4d8ad18313a36f208a",
      "17dc65e907184285b80870974674120a",
      "07f2c7236c1a49339f62b11593f251ca",
      "7b8d6cbf44ca4742b47549fb3db81519",
      "0a7863116b674ed6abe03d47f2fd106d",
      "f70d9d9be754469591ae73a8a5ebff91",
      "4c2a6f4fe3aa4f418090e56e2aa21ff7",
      "dc6e7e1066cb4d6cb8f9f24f84ccb5f5",
      "e23c8137ddae4ca099cf4f9aba96857f",
      "a0dae41e9ba340a5927b09532d296bb2",
      "63d3c9d027084de8a041e2b3f09020fb",
      "077503887e2d4a72b7a524884764cb9c",
      "9724492d693b461aa640e63491b04055",
      "e8781d4531aa4ce8956aeb09a795ff1b",
      "524e4bef25bb44ca9df610f3e180390b",
      "bb634bd38bd04a3d9b885140204d9fe5",
      "bad066456760442082ddf3f54d6a861d",
      "df1f15a4033644c384ac201ffc39d3ca",
      "70c32f34673f44a3934e7c11e9a62840",
      "76e4f0ed11c0472e8435bc9cb754112c",
      "bb37a92c7cb04261b2e41346891dd5cf",
      "6bb7c33711f54d1182777522cef46629",
      "7b31a9f98a114109af8baa1e7857664b",
      "58efda87f5254f999fce6e62ddce7896",
      "2f5f0682a17f49cf8b15338c53b3631c",
      "9f2e972f7d1147f3b61fec65b992ffd5",
      "62f6412226eb4294a47b4f6c28bcd91c",
      "c4fe716c88604eaa8ceeff53784979ad",
      "784c9bc2d19e475f99110f715cbe101a",
      "97b5348c1f944ff4bd049860a37744da",
      "537730e9f5824eb782bb96ae0a37460d",
      "c9fb8763f3e4491db55d54c6ee29c6f4",
      "4468748d960a454d9b59617c91d6d8c8",
      "07964ec9fe934fb3ae3b6263582dd091",
      "b28e1d1338ac4c8383a808fda3323667",
      "a8b964c2aee94df0848d323a406a7fed",
      "2cac9f434c7a49209fdcd235ca8dc4e1",
      "e46426aa7c594a909253610de5f72cbd",
      "5c37c5d4b90a4cccb242fee13c491608",
      "cd686220417946cab34fe10b0af053fe",
      "6cd4aa1ad7044276aecc4df92e2cc341",
      "d42fc44e0f6a4953aad2b6f08de9ffb4",
      "7962227ef95c4240957229776db20d7b",
      "59d7c8b27e684e228cfd21631afc53b4",
      "65d5320f853240388e53f58be695ec95",
      "d692f8bbb5e141cfbc003162ef77c1b6",
      "46e6475e4a2143ff81f7990de1cb4303",
      "61b08460cca2466d97804b5322d677bc",
      "3c98b74b48ed4922af92df4d702cfaab",
      "eb58669384c9429f9b63ed6c5e62b11e",
      "ed2bd7963ce24caf9e8936f13dd11db9",
      "bf05852159574550894ff522cb5c76d0",
      "70d04386f81342c1b678430bd5abadff",
      "a21e92ea431f408383b308d948f7e8b1",
      "d7cec48781c74252bb3e81279dfc2ec7",
      "3c26e4afdfce43399fd97aae81794ad3",
      "2bc7e81cfc33440e815c1443527b20c1",
      "46bff715940240f59fc1c78d4f42b827",
      "9797b32174414a8d91d2054f0e448a03",
      "9638f58b09614da0b6ae7493db68f466",
      "a071cce8d24247ef8d638ca1b29225f3",
      "5347a457be2e42b188abcee2f955edbf",
      "cccdd92459dc41be9f6d1247b50a4cc3",
      "432238eebfe54f2e9e12e14bf48b04a5",
      "aa32c0e722804476970f490a8236dc5d",
      "108f0923d9dc42c29279b1923f8795a6",
      "9aa59ee67ffa46488afb4af83ebc6779",
      "98e73093e27d43b3b7ce942fb3d66a65",
      "f041cf914d95499dbec80c4ba469ac25",
      "90f53ba7fcd74addafdc5cd8402b38d8",
      "c781f1e6ff85430da315eae6c8311b52",
      "52ba6c9709e74f08a833ece227368670",
      "684024cc13184e43b727ceb3f8b00a02",
      "8d92ef7b567c45d19fdf8b7092fe17a6",
      "414fc03ff20c41d7a03ef44ad9e93a11",
      "bcd11ed13ea64148aa339cf31bc5edab"
     ]
    },
    "id": "DJzJBsSfknpb",
    "outputId": "b34f0d4b-9ea6-4aca-fb54-c0f4e412f9cc"
   },
   "outputs": [
    {
     "name": "stderr",
     "output_type": "stream",
     "text": [
      "/usr/local/lib/python3.12/dist-packages/huggingface_hub/utils/_auth.py:94: UserWarning: \n",
      "The secret `HF_TOKEN` does not exist in your Colab secrets.\n",
      "To authenticate with the Hugging Face Hub, create a token in your settings tab (https://huggingface.co/settings/tokens), set it as secret in your Google Colab and restart your session.\n",
      "You will be able to reuse this secret in all of your notebooks.\n",
      "Please note that authentication is recommended but still optional to access public models or datasets.\n",
      "  warnings.warn(\n"
     ]
    },
    {
     "data": {
      "application/vnd.jupyter.widget-view+json": {
       "model_id": "ba22b3f8a8c843bbafccded4ed8d1b00",
       "version_major": 2,
       "version_minor": 0
      },
      "text/plain": [
       "tokenizer_config.json:   0%|          | 0.00/44.0 [00:00<?, ?B/s]"
      ]
     },
     "metadata": {},
     "output_type": "display_data"
    },
    {
     "data": {
      "application/vnd.jupyter.widget-view+json": {
       "model_id": "583c1202c8f042e38c240d3a4ada4275",
       "version_major": 2,
       "version_minor": 0
      },
      "text/plain": [
       "source.spm:   0%|          | 0.00/805k [00:00<?, ?B/s]"
      ]
     },
     "metadata": {},
     "output_type": "display_data"
    },
    {
     "data": {
      "application/vnd.jupyter.widget-view+json": {
       "model_id": "63d3c9d027084de8a041e2b3f09020fb",
       "version_major": 2,
       "version_minor": 0
      },
      "text/plain": [
       "target.spm:   0%|          | 0.00/807k [00:00<?, ?B/s]"
      ]
     },
     "metadata": {},
     "output_type": "display_data"
    },
    {
     "data": {
      "application/vnd.jupyter.widget-view+json": {
       "model_id": "6bb7c33711f54d1182777522cef46629",
       "version_major": 2,
       "version_minor": 0
      },
      "text/plain": [
       "vocab.json: 0.00B [00:00, ?B/s]"
      ]
     },
     "metadata": {},
     "output_type": "display_data"
    },
    {
     "data": {
      "application/vnd.jupyter.widget-view+json": {
       "model_id": "4468748d960a454d9b59617c91d6d8c8",
       "version_major": 2,
       "version_minor": 0
      },
      "text/plain": [
       "config.json: 0.00B [00:00, ?B/s]"
      ]
     },
     "metadata": {},
     "output_type": "display_data"
    },
    {
     "name": "stderr",
     "output_type": "stream",
     "text": [
      "/usr/local/lib/python3.12/dist-packages/transformers/models/marian/tokenization_marian.py:175: UserWarning: Recommended: pip install sacremoses.\n",
      "  warnings.warn(\"Recommended: pip install sacremoses.\")\n"
     ]
    },
    {
     "data": {
      "application/vnd.jupyter.widget-view+json": {
       "model_id": "59d7c8b27e684e228cfd21631afc53b4",
       "version_major": 2,
       "version_minor": 0
      },
      "text/plain": [
       "pytorch_model.bin:   0%|          | 0.00/312M [00:00<?, ?B/s]"
      ]
     },
     "metadata": {},
     "output_type": "display_data"
    },
    {
     "data": {
      "application/vnd.jupyter.widget-view+json": {
       "model_id": "d7cec48781c74252bb3e81279dfc2ec7",
       "version_major": 2,
       "version_minor": 0
      },
      "text/plain": [
       "generation_config.json:   0%|          | 0.00/293 [00:00<?, ?B/s]"
      ]
     },
     "metadata": {},
     "output_type": "display_data"
    },
    {
     "data": {
      "application/vnd.jupyter.widget-view+json": {
       "model_id": "108f0923d9dc42c29279b1923f8795a6",
       "version_major": 2,
       "version_minor": 0
      },
      "text/plain": [
       "model.safetensors:   0%|          | 0.00/312M [00:00<?, ?B/s]"
      ]
     },
     "metadata": {},
     "output_type": "display_data"
    }
   ],
   "source": [
    "translations = model.translate(\"我是誰\", target_lang='en',source_lang=\"zh\",)"
   ]
  },
  {
   "cell_type": "code",
   "execution_count": null,
   "metadata": {
    "colab": {
     "base_uri": "https://localhost:8080/"
    },
    "id": "eYyTN99uvQS4",
    "outputId": "dc9f3038-e0c3-4d43-c292-52a83fd9e507"
   },
   "outputs": [
    {
     "name": "stdout",
     "output_type": "stream",
     "text": [
      "Who am I?\n"
     ]
    }
   ],
   "source": [
    "print(translations)"
   ]
  },
  {
   "cell_type": "code",
   "execution_count": null,
   "metadata": {
    "colab": {
     "base_uri": "https://localhost:8080/",
     "height": 191
    },
    "id": "YswniEvOvnmY",
    "outputId": "eae381fc-7690-45ed-ea45-604e96e12d2f"
   },
   "outputs": [
    {
     "name": "stdout",
     "output_type": "stream",
     "text": [
      "Collecting wfind\n",
      "  Downloading wfind-0.0.1.tar.gz (2.2 kB)\n",
      "  Preparing metadata (setup.py) ... \u001b[?25l\u001b[?25hdone\n",
      "Building wheels for collected packages: wfind\n",
      "  Building wheel for wfind (setup.py) ... \u001b[?25l\u001b[?25hdone\n",
      "  Created wheel for wfind: filename=wfind-0.0.1-py3-none-any.whl size=2614 sha256=23c8da4fc4a9840e0f3cd378ca80af7d75f920ae6ffdd441833058ef72f2ccf5\n",
      "  Stored in directory: /root/.cache/pip/wheels/01/e3/64/3aef1e4f082b67805518c1d3558726586b3e87a88914d06400\n",
      "Successfully built wfind\n",
      "Installing collected packages: wfind\n",
      "Successfully installed wfind-0.0.1\n"
     ]
    }
   ],
   "source": [
    "!pip install wfind"
   ]
  },
  {
   "cell_type": "code",
   "execution_count": null,
   "metadata": {
    "colab": {
     "base_uri": "https://localhost:8080/"
    },
    "id": "-U5PMaBRvuY-",
    "outputId": "7d9b9bc9-329c-4861-9536-4feb5b86dd36"
   },
   "outputs": [
    {
     "name": "stdout",
     "output_type": "stream",
     "text": [
      "/root/.cache/huggingface/hub/models--Helsinki-NLP--opus-mt-zh-en/snapshots/cf109095479db38d6df799875e34039d4938aaa6/tokenizer_config.json\n",
      "/root/.cache/huggingface/hub/models--Helsinki-NLP--opus-mt-zh-en/snapshots/cf109095479db38d6df799875e34039d4938aaa6/source.spm\n"
     ]
    }
   ],
   "source": [
    "!python -m find \"/\" \"tokenizer_config.json\"\n",
    "!python -m find \"/\" \"source.spm\""
   ]
  },
  {
   "cell_type": "code",
   "execution_count": null,
   "metadata": {
    "colab": {
     "base_uri": "https://localhost:8080/"
    },
    "id": "2Cau6o3a3qR3",
    "outputId": "387c1f41-eebf-4d38-ffbc-0b8f02aed2e2"
   },
   "outputs": [
    {
     "name": "stdout",
     "output_type": "stream",
     "text": [
      "/root/.cache/huggingface/hub/models--Helsinki-NLP--opus-mt-zh-en/snapshots/cf109095479db38d6df799875e34039d4938aaa6/target.spm\n",
      "/root/.cache/huggingface/hub/models--Helsinki-NLP--opus-mt-zh-en/snapshots/cf109095479db38d6df799875e34039d4938aaa6/vocab.json\n",
      "/root/.cache/huggingface/hub/models--Helsinki-NLP--opus-mt-zh-en/snapshots/cf109095479db38d6df799875e34039d4938aaa6/config.json\n",
      "/root/.julia/packages/Plots/8ZnR3/docs/user_gallery/config.json\n",
      "/root/.julia/packages/Plots/8ZnR3/docs/user_gallery/misc/config.json\n",
      "/root/.julia/packages/Plots/8ZnR3/docs/gallery/gaston/config.json\n",
      "/root/.julia/packages/Plots/8ZnR3/docs/gallery/pythonplot/config.json\n",
      "/root/.julia/packages/Plots/8ZnR3/docs/gallery/inspectdr/config.json\n",
      "/root/.julia/packages/Plots/8ZnR3/docs/gallery/unicodeplots/config.json\n",
      "/root/.julia/packages/Plots/8ZnR3/docs/gallery/pgfplotsx/config.json\n",
      "/root/.julia/packages/Plots/8ZnR3/docs/gallery/gr/config.json\n",
      "/root/.julia/packages/Plots/8ZnR3/docs/gallery/plotlyjs/config.json\n",
      "/root/.julia/packages/TiffImages/hyrVM/docs/demos/config.json\n",
      "/tools/google-cloud-sdk/lib/googlecloudsdk/core/config.json\n"
     ]
    }
   ],
   "source": [
    "!python -m find \"/\" \"target.spm\"\n",
    "!python -m find \"/\" \"vocab.json\"\n",
    "!python -m find \"/\" \"config.json\""
   ]
  },
  {
   "cell_type": "code",
   "execution_count": null,
   "metadata": {
    "colab": {
     "base_uri": "https://localhost:8080/"
    },
    "id": "EjjvfEtC34lH",
    "outputId": "6fbe64b9-d33a-4087-add7-7dbbd4169901"
   },
   "outputs": [
    {
     "name": "stdout",
     "output_type": "stream",
     "text": [
      "/root/.cache/huggingface/hub/models--Helsinki-NLP--opus-mt-zh-en/snapshots/cf109095479db38d6df799875e34039d4938aaa6/pytorch_model.bin\n",
      "/root/.cache/huggingface/hub/models--Helsinki-NLP--opus-mt-zh-en/snapshots/cf109095479db38d6df799875e34039d4938aaa6/generation_config.json\n",
      "/root/.cache/huggingface/hub/models--Helsinki-NLP--opus-mt-zh-en/.no_exist/cf109095479db38d6df799875e34039d4938aaa6/model.safetensors\n",
      "/root/.cache/huggingface/hub/models--Helsinki-NLP--opus-mt-zh-en/snapshots/badebd2bdd4cdfde141a969df82a0f2c4e3b1dfe/model.safetensors\n"
     ]
    }
   ],
   "source": [
    "!python -m find \"/\" \"pytorch_model.bin\"\n",
    "!python -m find \"/\" \"generation_config.json\"\n",
    "!python -m find \"/\" \"model.safetensors\""
   ]
  },
  {
   "cell_type": "code",
   "execution_count": null,
   "metadata": {
    "id": "NP2-PR2s4MJR"
   },
   "outputs": [],
   "source": [
    "!cp /root/.cache/huggingface/hub/models--Helsinki-NLP--opus-mt-zh-en/snapshots/badebd2bdd4cdfde141a969df82a0f2c4e3b1dfe/model.safetensors /root/.cache/huggingface/hub/models--Helsinki-NLP--opus-mt-zh-en/snapshots/cf109095479db38d6df799875e34039d4938aaa6"
   ]
  },
  {
   "cell_type": "code",
   "execution_count": null,
   "metadata": {
    "colab": {
     "base_uri": "https://localhost:8080/"
    },
    "id": "jDtrRpzPxdvf",
    "outputId": "147b68d8-a2e9-4229-a680-4a17e385910e"
   },
   "outputs": [
    {
     "name": "stdout",
     "output_type": "stream",
     "text": [
      "/content/opus-mt/easynmt.json\n"
     ]
    }
   ],
   "source": [
    "!python -m find \"/\" \"easynmt.json\""
   ]
  },
  {
   "cell_type": "code",
   "execution_count": null,
   "metadata": {
    "colab": {
     "base_uri": "https://localhost:8080/"
    },
    "id": "_g_83IyHv1ho",
    "outputId": "6f512f82-a77a-4002-e84e-be58b5819dbd"
   },
   "outputs": [
    {
     "name": "stdout",
     "output_type": "stream",
     "text": [
      "config.json\t\tmodel.safetensors  source.spm  tokenizer_config.json\n",
      "generation_config.json\tpytorch_model.bin  target.spm  vocab.json\n"
     ]
    }
   ],
   "source": [
    "!dir /root/.cache/huggingface/hub/models--Helsinki-NLP--opus-mt-zh-en/snapshots/cf109095479db38d6df799875e34039d4938aaa6"
   ]
  },
  {
   "cell_type": "code",
   "execution_count": null,
   "metadata": {
    "colab": {
     "base_uri": "https://localhost:8080/"
    },
    "id": "r4rQhFDh4Wae",
    "outputId": "70667760-d808-4dac-8268-cca835497134"
   },
   "outputs": [
    {
     "name": "stdout",
     "output_type": "stream",
     "text": [
      "model.safetensors\n"
     ]
    }
   ],
   "source": [
    "!dir /root/.cache/huggingface/hub/models--Helsinki-NLP--opus-mt-zh-en/snapshots/badebd2bdd4cdfde141a969df82a0f2c4e3b1dfe"
   ]
  },
  {
   "cell_type": "code",
   "execution_count": null,
   "metadata": {
    "id": "ylMSTJSMwyLb"
   },
   "outputs": [],
   "source": [
    "!cp /content/opus-mt/easynmt.json /root/.cache/huggingface/hub/models--Helsinki-NLP--opus-mt-zh-en/snapshots/cf109095479db38d6df799875e34039d4938aaa6"
   ]
  },
  {
   "cell_type": "code",
   "execution_count": null,
   "metadata": {
    "id": "47eNL_VEwTze"
   },
   "outputs": [],
   "source": [
    "from easynmt import EasyNMT\n",
    "model = EasyNMT('/root/.cache/huggingface/hub/models--Helsinki-NLP--opus-mt-zh-en/snapshots/cf109095479db38d6df799875e34039d4938aaa6')"
   ]
  },
  {
   "cell_type": "code",
   "execution_count": null,
   "metadata": {
    "colab": {
     "base_uri": "https://localhost:8080/"
    },
    "id": "8sCjE9IYw_Pd",
    "outputId": "f7d444a7-5f08-4620-de2d-b26f669b054d"
   },
   "outputs": [
    {
     "name": "stderr",
     "output_type": "stream",
     "text": [
      "/usr/local/lib/python3.12/dist-packages/transformers/models/marian/tokenization_marian.py:175: UserWarning: Recommended: pip install sacremoses.\n",
      "  warnings.warn(\"Recommended: pip install sacremoses.\")\n"
     ]
    }
   ],
   "source": [
    "translations = model.translate(\"我是誰\", target_lang='en',source_lang=\"zh\",)"
   ]
  },
  {
   "cell_type": "code",
   "execution_count": null,
   "metadata": {
    "colab": {
     "base_uri": "https://localhost:8080/"
    },
    "id": "ZYF2RJeBxBXP",
    "outputId": "44c8a171-a60c-4456-a9b9-727d45ca17ed"
   },
   "outputs": [
    {
     "name": "stdout",
     "output_type": "stream",
     "text": [
      "Who am I?\n"
     ]
    }
   ],
   "source": [
    "print(translations)"
   ]
  },
  {
   "cell_type": "code",
   "execution_count": null,
   "metadata": {
    "colab": {
     "base_uri": "https://localhost:8080/"
    },
    "id": "yAndZsffv7pD",
    "outputId": "4564f3a2-79ef-41e5-b52a-05a544bda01b"
   },
   "outputs": [
    {
     "name": "stdout",
     "output_type": "stream",
     "text": [
      "  adding: root/.cache/huggingface/hub/models--Helsinki-NLP--opus-mt-zh-en/snapshots/cf109095479db38d6df799875e34039d4938aaa6/ (stored 0%)\n",
      "  adding: root/.cache/huggingface/hub/models--Helsinki-NLP--opus-mt-zh-en/snapshots/cf109095479db38d6df799875e34039d4938aaa6/target.spm (deflated 49%)\n",
      "  adding: root/.cache/huggingface/hub/models--Helsinki-NLP--opus-mt-zh-en/snapshots/cf109095479db38d6df799875e34039d4938aaa6/config.json (deflated 61%)\n",
      "  adding: root/.cache/huggingface/hub/models--Helsinki-NLP--opus-mt-zh-en/snapshots/cf109095479db38d6df799875e34039d4938aaa6/pytorch_model.bin (deflated 7%)\n",
      "  adding: root/.cache/huggingface/hub/models--Helsinki-NLP--opus-mt-zh-en/snapshots/cf109095479db38d6df799875e34039d4938aaa6/tokenizer_config.json (deflated 16%)\n",
      "  adding: root/.cache/huggingface/hub/models--Helsinki-NLP--opus-mt-zh-en/snapshots/cf109095479db38d6df799875e34039d4938aaa6/generation_config.json (deflated 43%)\n",
      "  adding: root/.cache/huggingface/hub/models--Helsinki-NLP--opus-mt-zh-en/snapshots/cf109095479db38d6df799875e34039d4938aaa6/source.spm (deflated 46%)\n",
      "  adding: root/.cache/huggingface/hub/models--Helsinki-NLP--opus-mt-zh-en/snapshots/cf109095479db38d6df799875e34039d4938aaa6/vocab.json (deflated 66%)\n",
      "  adding: root/.cache/huggingface/hub/models--Helsinki-NLP--opus-mt-zh-en/snapshots/cf109095479db38d6df799875e34039d4938aaa6/model.safetensors (deflated 7%)\n",
      "  adding: root/.cache/huggingface/hub/models--Helsinki-NLP--opus-mt-zh-en/snapshots/cf109095479db38d6df799875e34039d4938aaa6/easynmt.json (deflated 73%)\n"
     ]
    }
   ],
   "source": [
    "!zip -r get.zip /root/.cache/huggingface/hub/models--Helsinki-NLP--opus-mt-zh-en/snapshots/cf109095479db38d6df799875e34039d4938aaa6"
   ]
  },
  {
   "cell_type": "code",
   "execution_count": null,
   "metadata": {
    "colab": {
     "base_uri": "https://localhost:8080/",
     "height": 17
    },
    "id": "7xwv8YozwSM_",
    "outputId": "8a1d82a2-9287-47bb-a95a-ebcc6114c43f"
   },
   "outputs": [
    {
     "data": {
      "application/javascript": [
       "\n",
       "    async function download(id, filename, size) {\n",
       "      if (!google.colab.kernel.accessAllowed) {\n",
       "        return;\n",
       "      }\n",
       "      const div = document.createElement('div');\n",
       "      const label = document.createElement('label');\n",
       "      label.textContent = `Downloading \"${filename}\": `;\n",
       "      div.appendChild(label);\n",
       "      const progress = document.createElement('progress');\n",
       "      progress.max = size;\n",
       "      div.appendChild(progress);\n",
       "      document.body.appendChild(div);\n",
       "\n",
       "      const buffers = [];\n",
       "      let downloaded = 0;\n",
       "\n",
       "      const channel = await google.colab.kernel.comms.open(id);\n",
       "      // Send a message to notify the kernel that we're ready.\n",
       "      channel.send({})\n",
       "\n",
       "      for await (const message of channel.messages) {\n",
       "        // Send a message to notify the kernel that we're ready.\n",
       "        channel.send({})\n",
       "        if (message.buffers) {\n",
       "          for (const buffer of message.buffers) {\n",
       "            buffers.push(buffer);\n",
       "            downloaded += buffer.byteLength;\n",
       "            progress.value = downloaded;\n",
       "          }\n",
       "        }\n",
       "      }\n",
       "      const blob = new Blob(buffers, {type: 'application/binary'});\n",
       "      const a = document.createElement('a');\n",
       "      a.href = window.URL.createObjectURL(blob);\n",
       "      a.download = filename;\n",
       "      div.appendChild(a);\n",
       "      a.click();\n",
       "      div.remove();\n",
       "    }\n",
       "  "
      ],
      "text/plain": [
       "<IPython.core.display.Javascript object>"
      ]
     },
     "metadata": {},
     "output_type": "display_data"
    },
    {
     "data": {
      "application/javascript": [
       "download(\"download_de68ba9a-d8c8-44f4-89f1-986583a01be5\", \"get.zip\", 579667563)"
      ],
      "text/plain": [
       "<IPython.core.display.Javascript object>"
      ]
     },
     "metadata": {},
     "output_type": "display_data"
    }
   ],
   "source": [
    "from google.colab import files\n",
    "files.download(\"get.zip\")"
   ]
  },
  {
   "cell_type": "markdown",
   "metadata": {
    "id": "1bq_FsNxyQn7"
   },
   "source": [
    "# USE COLAB BECAUSE WINDOWS: requests.exceptions.MissingSchema: Invalid URL\n"
   ]
  },
  {
   "cell_type": "markdown",
   "metadata": {
    "id": "r5MgU7F944Ee"
   },
   "source": [
    "# **END**"
   ]
  },
  {
   "cell_type": "markdown",
   "metadata": {
    "id": "gB4i7NgGJvFm"
   },
   "source": [
    "# Document Translation\n",
    "You can also pass longer documents (or list of documents) to the `translate()` method.\n",
    "\n",
    "As Transformer models can only translate inputs up to 512 (or 1024) word pieces, we first perform sentence splitting. Then, each sentence is translated individually."
   ]
  },
  {
   "cell_type": "code",
   "execution_count": null,
   "metadata": {
    "colab": {
     "base_uri": "https://localhost:8080/",
     "height": 722,
     "referenced_widgets": [
      "9dc49f36e7e94b9a923ba23ce9a0b6be",
      "378cce8383af40429547747370ed2b5a",
      "05871ecde21a49c3ab48c3c1ff02b277",
      "998e01938926428daa2861d90f512111",
      "d7870f906cb94d2da323a101e68a5d31",
      "715eb3f4cd0e4918b5ae8364158ce873",
      "dac7d254b63e4fa28e8442dd1fec6586",
      "de486ebcd60747069f870864b7ce046f",
      "5b298a4b19a645cab0cbb17dd34cc6fc",
      "7c8c939bd909411cafe81b04995784fe",
      "856de209e06e420dbd2966492017cf30",
      "b32ae402d35840b49ada2115f5eee55a",
      "10b80cf09825465fad1bfe297d84fd99",
      "9b41a186a56844508dbebeab24e58e61",
      "c62d79b2308f4ec8a0f70c6bdfe92af8",
      "55d1756ac29b416f993f409de5f75349",
      "0a06091797d945239176732305019e64",
      "e9a18790907249b1acf2fb580e0dcd52",
      "cc063a28413443c8aa8c058ed70cf9b9",
      "9c3f5c9e8d964c49b2461e1a32f54e24",
      "68b314f23cff499fac954a876cf9fefa",
      "6f392b2ce49d41d9aeae7e45d96260a2",
      "8473e99768754540bb9c8858cd264461",
      "6b265bde92ce48e8bddaabba2dd3246c",
      "6ae3cc6dd75f4c0aaacf0d18934aeb01",
      "fbd643fab08f4d6fb5ccba28404913a0",
      "6350677cda7744cba50c1d723ca7d3f5",
      "7615ad91515c4fc9bd8d38a051f4f82c",
      "c44a7157cb354ed1b0a13d198924a0c9",
      "d84b11cc1cda41b4a56089d555f5eacb",
      "9b1ea04b25744ddf972b3c476848e344",
      "f77b0eef32924fdfb490170581ca81a7",
      "edee7511a0094d4abf2b4f97527464c1",
      "6dbf1d0692e54486b52757387ec970be",
      "589ea71ae7ae486b8d18ce87b9dc165b",
      "4d410a84159b434cb880d27a493107c7",
      "351a253ee867468c94e1ba2f0eee2edd",
      "86a14a2bc47040ad98108f2e2aaf4603",
      "fb536e07ab694e48a6fdf14c6a5611f9",
      "f7375431eaf64ce79d885c2628be561c",
      "9bcf7c77c87e451e8ba53375ded276f8",
      "f044f8832316423cb6b54f33ac5a4fed",
      "be87414dc78943d2a215bdbfe568819a",
      "195d0a44d63747a693311e6658ea7e75",
      "f0d3c5715ac74f53a2459add3bf3773c",
      "c76fd3fbf84749b99921a3239f608f80",
      "24a1f72f72634a3691df94ff8f3228da",
      "05368bf62a554930936a08610a6f5a88"
     ]
    },
    "id": "zKo8PaxtKHzP",
    "outputId": "5c868b76-1702-415a-86ca-cb023531128c"
   },
   "outputs": [
    {
     "name": "stdout",
     "output_type": "stream",
     "text": [
      "Output:\n"
     ]
    },
    {
     "data": {
      "application/vnd.jupyter.widget-view+json": {
       "model_id": "9dc49f36e7e94b9a923ba23ce9a0b6be",
       "version_major": 2,
       "version_minor": 0
      },
      "text/plain": [
       "HBox(children=(FloatProgress(value=0.0, description='Downloading', max=768489.0, style=ProgressStyle(descripti…"
      ]
     },
     "metadata": {
      "tags": []
     },
     "output_type": "display_data"
    },
    {
     "name": "stdout",
     "output_type": "stream",
     "text": [
      "\n"
     ]
    },
    {
     "data": {
      "application/vnd.jupyter.widget-view+json": {
       "model_id": "5b298a4b19a645cab0cbb17dd34cc6fc",
       "version_major": 2,
       "version_minor": 0
      },
      "text/plain": [
       "HBox(children=(FloatProgress(value=0.0, description='Downloading', max=796845.0, style=ProgressStyle(descripti…"
      ]
     },
     "metadata": {
      "tags": []
     },
     "output_type": "display_data"
    },
    {
     "name": "stdout",
     "output_type": "stream",
     "text": [
      "\n"
     ]
    },
    {
     "data": {
      "application/vnd.jupyter.widget-view+json": {
       "model_id": "0a06091797d945239176732305019e64",
       "version_major": 2,
       "version_minor": 0
      },
      "text/plain": [
       "HBox(children=(FloatProgress(value=0.0, description='Downloading', max=1273232.0, style=ProgressStyle(descript…"
      ]
     },
     "metadata": {
      "tags": []
     },
     "output_type": "display_data"
    },
    {
     "name": "stdout",
     "output_type": "stream",
     "text": [
      "\n"
     ]
    },
    {
     "data": {
      "application/vnd.jupyter.widget-view+json": {
       "model_id": "6ae3cc6dd75f4c0aaacf0d18934aeb01",
       "version_major": 2,
       "version_minor": 0
      },
      "text/plain": [
       "HBox(children=(FloatProgress(value=0.0, description='Downloading', max=42.0, style=ProgressStyle(description_w…"
      ]
     },
     "metadata": {
      "tags": []
     },
     "output_type": "display_data"
    },
    {
     "name": "stdout",
     "output_type": "stream",
     "text": [
      "\n"
     ]
    },
    {
     "data": {
      "application/vnd.jupyter.widget-view+json": {
       "model_id": "edee7511a0094d4abf2b4f97527464c1",
       "version_major": 2,
       "version_minor": 0
      },
      "text/plain": [
       "HBox(children=(FloatProgress(value=0.0, description='Downloading', max=1335.0, style=ProgressStyle(description…"
      ]
     },
     "metadata": {
      "tags": []
     },
     "output_type": "display_data"
    },
    {
     "name": "stdout",
     "output_type": "stream",
     "text": [
      "\n"
     ]
    },
    {
     "data": {
      "application/vnd.jupyter.widget-view+json": {
       "model_id": "9bcf7c77c87e451e8ba53375ded276f8",
       "version_major": 2,
       "version_minor": 0
      },
      "text/plain": [
       "HBox(children=(FloatProgress(value=0.0, description='Downloading', max=297928209.0, style=ProgressStyle(descri…"
      ]
     },
     "metadata": {
      "tags": []
     },
     "output_type": "display_data"
    },
    {
     "name": "stdout",
     "output_type": "stream",
     "text": [
      "\n",
      "Berlin ist die Hauptstadt und größte Stadt Deutschlands sowohl in der Region als auch in der Bevölkerung.\n",
      "Die 3.769,495 Einwohner machen sie zum 31. Dezember 2019 zur bevölkerungsreichsten Stadt der Europäischen Union, nach der Bevölkerung innerhalb der Stadtgrenzen.\n",
      "Die Stadt gehört auch zu den 16 Bundesländern Deutschlands. Sie ist von Brandenburg umgeben und mit Potsdam, der Hauptstadt Brandenburgs, verbunden. \n",
      "Die beiden Städte befinden sich im Zentrum der Hauptstadtregion Berlin-Brandenburg, mit rund sechs Millionen Einwohnern und einer Fläche von mehr als 30.000 km2, Deutschlands drittgrößter Metropolregion nach den Regionen Rhein-Ruhr und Rhein-Main. \n",
      "Berlin erstreckt sich über das Ufer der Spree, die in den Havel (ein Nebenfluss der Elbe) im westlichen Bezirk Spandau mündet. \n",
      "Zu den wichtigsten topographischen Merkmalen der Stadt gehören die zahlreichen Seen in den westlichen und südöstlichen Stadtteilen, die von den Flüssen Spree, Havel und Dahme gebildet wurden (der größte davon ist der Müggelsee). \n",
      "Aufgrund seiner Lage in der Europäischen Ebene wird Berlin von einem gemäßigten saisonalen Klima beeinflusst. \n",
      "Etwa ein Drittel des Stadtgebiets besteht aus Wäldern, Parks, Gärten, Flüssen, Kanälen und Seen.\n",
      "Die Stadt liegt im mitteldeutschen Dialektgebiet, der Berliner Dialekt ist eine Variante der Lusatian-New Marchian Dialekte.\n",
      "\n",
      "Jahrhundert und an der Überquerung zweier wichtiger historischer Handelswege erstmals dokumentiert, wurde Berlin zur Hauptstadt der Markgrafschaft Brandenburg (1417–1701), des Königreichs Preußen (1701–1918), des Deutschen Reiches (1871–1918), der Weimarer Republik (1919–1933) und des Dritten Reiches (1933–1945).\n",
      "Berlin war in den 1920er Jahren die drittgrößte Gemeinde der Welt.\n",
      "Nach dem Zweiten Weltkrieg und seiner anschließenden Besetzung durch die siegreichen Länder wurde die Stadt geteilt; West-Berlin wurde de facto eine westdeutsche Exklave, umgeben von der Berliner Mauer (1961–1989) und dem ostdeutschen Territorium. \n",
      "Ost-Berlin wurde zur Hauptstadt Ostdeutschlands erklärt, während Bonn zur westdeutschen Hauptstadt wurde. \n",
      "Nach der deutschen Wiedervereinigung 1990 wurde Berlin wieder zur Hauptstadt ganz Deutschlands.\n",
      "\n",
      "Berlin ist eine Weltstadt der Kultur, Politik, Medien und Wissenschaft.\n",
      "Seine Wirtschaft basiert auf High-Tech-Firmen und dem Dienstleistungssektor und umfasst eine Vielzahl von Kreativindustrien, Forschungseinrichtungen, Medienunternehmen und Kongressstätten. \n",
      "Berlin dient als kontinentale Drehscheibe für den Luft- und Schienenverkehr und verfügt über ein hochkomplexes öffentliches Verkehrsnetz. \n",
      "Die Metropole ist ein beliebtes Touristenziel.\n",
      "Zu den bedeutenden Industriezweigen gehören auch IT, Pharmazeutika, biomedizinische Technik, Clean Tech, Biotechnologie, Bauwesen und Elektronik.\n"
     ]
    }
   ],
   "source": [
    "import tqdm\n",
    "document = \"\"\"Berlin is the capital and largest city of Germany by both area and population.\n",
    "Its 3,769,495 inhabitants as of 31 December 2019 make it the most-populous city of the European Union, according to population within city limits.\n",
    "The city is also one of Germany's 16 federal states. It is surrounded by the state of Brandenburg, and contiguous with Potsdam, Brandenburg's capital.\n",
    "The two cities are at the center of the Berlin-Brandenburg capital region, which is, with about six million inhabitants and an area of more than 30,000 km2, Germany's third-largest metropolitan region after the Rhine-Ruhr and Rhine-Main regions.\n",
    "Berlin straddles the banks of the River Spree, which flows into the River Havel (a tributary of the River Elbe) in the western borough of Spandau.\n",
    "Among the city's main topographical features are the many lakes in the western and southeastern boroughs formed by the Spree, Havel, and Dahme rivers (the largest of which is Lake Müggelsee).\n",
    "Due to its location in the European Plain, Berlin is influenced by a temperate seasonal climate.\n",
    "About one-third of the city's area is composed of forests, parks, gardens, rivers, canals and lakes.\n",
    "The city lies in the Central German dialect area, the Berlin dialect being a variant of the Lusatian-New Marchian dialects.\n",
    "\n",
    "First documented in the 13th century and at the crossing of two important historic trade routes, Berlin became the capital of the Margraviate of Brandenburg (1417–1701), the Kingdom of Prussia (1701–1918), the German Empire (1871–1918), the Weimar Republic (1919–1933), and the Third Reich (1933–1945).\n",
    "Berlin in the 1920s was the third-largest municipality in the world.\n",
    "After World War II and its subsequent occupation by the victorious countries, the city was divided; West Berlin became a de facto West German exclave, surrounded by the Berlin Wall (1961–1989) and East German territory.\n",
    "East Berlin was declared capital of East Germany, while Bonn became the West German capital.\n",
    "Following German reunification in 1990, Berlin once again became the capital of all of Germany.\n",
    "\n",
    "Berlin is a world city of culture, politics, media and science.\n",
    "Its economy is based on high-tech firms and the service sector, encompassing a diverse range of creative industries, research facilities, media corporations and convention venues.\n",
    "Berlin serves as a continental hub for air and rail traffic and has a highly complex public transportation network.\n",
    "The metropolis is a popular tourist destination.\n",
    "Significant industries also include IT, pharmaceuticals, biomedical engineering, clean tech, biotechnology, construction and electronics.\"\"\"\n",
    "\n",
    "\n",
    "print(\"Output:\")\n",
    "print(model.translate(document, target_lang='de'))"
   ]
  },
  {
   "cell_type": "markdown",
   "metadata": {
    "id": "dRalZfgSx20U"
   },
   "source": [
    "# Language Detection\n",
    "EasyNMT allows easy detection of the language of text. For this, we call the method `model.language_detection(text)`.\n",
    "\n",
    "For language detection, we use [fastText](https://fasttext.cc/blog/2017/10/02/blog-post.html), which is able to recognize more than 170 languages.\n"
   ]
  },
  {
   "cell_type": "code",
   "execution_count": null,
   "metadata": {
    "colab": {
     "base_uri": "https://localhost:8080/"
    },
    "id": "Ed6-tzLFx4Mj",
    "outputId": "5d8fdbb1-efc9-4fd2-8ec6-965afae890ed"
   },
   "outputs": [
    {
     "name": "stdout",
     "output_type": "stream",
     "text": [
      "This is an English sentence.\n",
      "=> detected language: en \n",
      "\n",
      "Dies ist ein deutscher Satz.\n",
      "=> detected language: de \n",
      "\n",
      "это русское предложение.\n",
      "=> detected language: ru \n",
      "\n",
      "这是一个中文句子。\n",
      "=> detected language: zh \n",
      "\n"
     ]
    }
   ],
   "source": [
    "sentences = [\"This is an English sentence.\" ,\"Dies ist ein deutscher Satz.\", \"это русское предложение.\", \"这是一个中文句子。\"]\n",
    "\n",
    "for sent in sentences:\n",
    "  print(sent)\n",
    "  print(\"=> detected language:\", model.language_detection(sent), \"\\n\")"
   ]
  },
  {
   "cell_type": "markdown",
   "metadata": {
    "id": "KNPWMo8rJ3Ws"
   },
   "source": [
    "# Beam-Search\n",
    "You can pass the beam-size as parameter to the `translate()` method. A larger beam size produces higher quality translations, but requires longer for the translation. By default, beam-size is set to 5."
   ]
  },
  {
   "cell_type": "code",
   "execution_count": null,
   "metadata": {
    "colab": {
     "base_uri": "https://localhost:8080/"
    },
    "id": "VT60ADjlKnYs",
    "outputId": "29d663d0-ed66-485e-a2a3-140bf5ddf279"
   },
   "outputs": [
    {
     "name": "stdout",
     "output_type": "stream",
     "text": [
      "\n",
      "Beam-Size 1\n",
      "Berlin is the capital of Germany and the largest city in Germany, both of its inhabitants and of its area, while Hamburg is the second largest city.\n",
      "Translated in 0.18 sec\n",
      "\n",
      "Beam-Size 10\n",
      "Berlin is the capital of Germany and of both the inhabitants and the area the largest city in Germany, while Hamburg is the second largest city.\n",
      "Translated in 0.44 sec\n"
     ]
    }
   ],
   "source": [
    "import time\n",
    "model = EasyNMT('opus-mt')\n",
    "\n",
    "sentence = \"Berlin ist die Hauptstadt von Deutschland und sowohl von den Einwohner als auch von der Fläche die größte Stadt in Deutschland, während Hamburg die zweit größte Stadt ist.\"\n",
    "\n",
    "#Loading and warm-up of the model\n",
    "model.translate(sentence, target_lang='en', beam_size=1)\n",
    "\n",
    "print(\"\\nBeam-Size 1\")\n",
    "start_time = time.time()\n",
    "print(model.translate(sentence, target_lang='en', beam_size=1))\n",
    "print(\"Translated in {:.2f} sec\".format(time.time()-start_time))\n",
    "\n",
    "print(\"\\nBeam-Size 10\")\n",
    "start_time = time.time()\n",
    "print(model.translate(sentence, target_lang='en', beam_size=10))\n",
    "print(\"Translated in {:.2f} sec\".format(time.time()-start_time))\n"
   ]
  },
  {
   "cell_type": "markdown",
   "metadata": {
    "id": "sQ_se5Ey6GcH"
   },
   "source": [
    "# Available Models\n"
   ]
  },
  {
   "cell_type": "code",
   "execution_count": null,
   "metadata": {
    "colab": {
     "base_uri": "https://localhost:8080/",
     "height": 1000,
     "referenced_widgets": [
      "71ad2bbfcac345ca9c1a665c7f5a7019",
      "2ca416e3d768471fa7e67232101f837d",
      "782789fb40c24d0d92f0d2300b65cda1",
      "9735e18f65724b4fad68ffb551924311",
      "e452d997fd9a4a4d88885678c412de0c",
      "aba382d0f45d45a78c710f88463016d6",
      "5014d3fe44be4212a169161a3a2affc4",
      "fd74210c5ab249a9b9dc7c9aab16cdfa",
      "3b47c1e712e14a959851e0c1d8324b38",
      "9d7a648792b44c49ac3af1d007995afc",
      "2ca2692ff79540d3a01f29aea0b7027b",
      "77ac1c9a7cde4ae6a14b6fcd44fea78d",
      "c65ebbc800fb454983928e2c690eac34",
      "fe84bd94c6c44379a4bd629f9e80a0f6",
      "e099d9c47adc465194992921eb4e431e",
      "08afb50acde940ef89dbd5a4ebbe19ab",
      "fcb97ca3d5c04d4e936432c5dda16f2a",
      "4b1cab11879e47f2995a0f8d3d14c0a5",
      "0525e2ae67c94fbcbdf399b17be2c4af",
      "eb4c39e66c7c40daaf98d6205885d7e4",
      "1e9e9ab431084a67af86a24c3129aa89",
      "9af9cd557f8d4c699fa192e47c6ee907",
      "f890f50cbd084c138cdfdb2b394904ee",
      "7c4dbc3f96d3418cbd4deba926378860",
      "0ebc4ec83236468781cda67dcf5c01ca",
      "e7bdd1a16a8544a19499cdde2279fc67",
      "7fb30cceffba42ee947f0d9401e05fe6",
      "4b8d3fc2940b432f8d92708a11d6069f",
      "d3f6ddc8f436407586aeb8b07b5eb557",
      "6b95f1d33f064f898cbf94f7dfdad820",
      "90586122665d410a9099554e9a22f153",
      "d4ac2dadc5cb4e599797231cd0e26569",
      "8b12f6add40d46d98cf9df0b605ca1ce",
      "92c7a8bf117f4e92bf24d3d9fe0369c1",
      "2740e8fa87ef4383aad136f7b25ff4e3",
      "831a21471ce3418d8eecaec4c587cc3f",
      "fda7d8e63c9b4a23baa7f36fcf0e0c4b",
      "32ab43147582447dbe256d75e5f99838",
      "13bfe6c5cf5b475d833bb3bbe58f5b53",
      "1afb334e7bc8491b9fe9c4b36e03a822",
      "84eb381b599545e8a4b175477e158dec",
      "274eebcc1e3f4364a1acb8d5a146ec11",
      "aa52452bf8d34efa98dbcac9998a7a1c",
      "2b62c95bff12440d9d3d45fb24440681",
      "e6fcff0b1e1348f1affab860cda22092",
      "9db167eb374449f7aac85f001dbfe247",
      "38e0da2f2e35424c80ef9294c49a3f11",
      "a354026d0d5d4051b9b98a258916efd6",
      "3b7e2ffa652645899e60412c02ae7628",
      "feca65f1582f4838b1ac602b2e384217",
      "c663701906eb45c2a623dd78943ba8ce",
      "3788f15da0d4423696e6014b15333823",
      "392b0d2837674f4dbece2b6c3dfd15df",
      "3a122a6acf994f048ab9d8af041c4c6a",
      "2c3a0587cf69499c80c18d7c004a4315",
      "ee48f20a6432460388c0cf99c7a27172",
      "7673ebb9b3b942088074ee1b4ad6c989",
      "289e64ed9bc54da1a8e3c6f687f89fdd",
      "bc90c1a136df4304b83c9b382726a13b",
      "fade7cbfb2b4498aa33c637ed3611c8e",
      "de18b9c8d06d422998e05ef12f2e05ae",
      "b1e9ca7ed9e34d43bf657ea550c5fb61",
      "3b323644405c4054a33202169faa1c7f",
      "099f1a40968f43678f866404d281c4f6",
      "d4ade63bc2c34cb59b1d21f3a05eb7de",
      "d750c8a61f144b578a73e6f3f55c3988",
      "baba96d7eb1c49c08f1931ee7f0db0a8",
      "c2b44d41e4ca4b0d8531ecef47e83569",
      "9ef5d5b427ab4f9c91a6d67f71243e4f",
      "9096eba1988442e4b59e0954ce0674de",
      "57ee5127f37a46fdb948c4d5032156e3",
      "952e1031e8a846baa612715c43ceb729",
      "1c834371c9214c938f9c06e0e8cb883b",
      "c6e0875558d541a58bb3324892b4bf21",
      "d639e3800f9740d0a1265430ba59faaa",
      "94c0b4bbeab741cca35b11ecd83adb1a",
      "5e765664e7de4caf8f66d866b3479722",
      "fec266ee1223433cb17c788a65f0e457",
      "9e9568a60d814278b57bc37e09ee1baa",
      "9bcb48520e924dd3967cf6355565150b",
      "ede9adf41d8d4119a1469e6caa6220f9",
      "e89f7b3978e24e5898e33006af763fc8",
      "ab2064cb9fbd485680d0e0eba404b227",
      "54f904ff4aec48bfac03daa073f804b4",
      "04305d498b2344b5bd9b7d5707179f34",
      "83b0854b28074a438f60dd3a140586ea",
      "6485dc071eae4ddd9c3278ca2557aae2",
      "c6e147fd9c604ee58cba6594d3842fa6"
     ]
    },
    "id": "U3Sk7Wwr6JjT",
    "outputId": "2441e7a9-8471-4317-92be-d46e72e70d72"
   },
   "outputs": [
    {
     "name": "stdout",
     "output_type": "stream",
     "text": [
      "\n",
      "\n",
      "Load model: opus-mt\n",
      "Translations:\n",
      "In dieser Liste definieren wir mehrere Sätze.\n",
      "=> In this list we define several sentences. \n",
      "\n",
      "Jeder dieser Sätze wird dann in die Zielsprache übersetzt.\n",
      "=> Each of these sentences is then translated into the target language. \n",
      "\n",
      "Puede especificar en esta lista la oración en varios idiomas.\n",
      "=> You can specify the sentence in several languages in this list. \n",
      "\n",
      "El sistema detectará automáticamente el idioma y utilizará el modelo correcto.\n",
      "=> The system will automatically detect the language and use the correct model. \n",
      "\n",
      "\n",
      "\n",
      "Load model: mbart50_m2m\n"
     ]
    },
    {
     "name": "stderr",
     "output_type": "stream",
     "text": [
      "100%|██████████| 24.9k/24.9k [00:00<00:00, 242kB/s]\n"
     ]
    },
    {
     "data": {
      "application/vnd.jupyter.widget-view+json": {
       "model_id": "71ad2bbfcac345ca9c1a665c7f5a7019",
       "version_major": 2,
       "version_minor": 0
      },
      "text/plain": [
       "HBox(children=(FloatProgress(value=0.0, description='Downloading', max=1429.0, style=ProgressStyle(description…"
      ]
     },
     "metadata": {
      "tags": []
     },
     "output_type": "display_data"
    },
    {
     "name": "stdout",
     "output_type": "stream",
     "text": [
      "\n"
     ]
    },
    {
     "data": {
      "application/vnd.jupyter.widget-view+json": {
       "model_id": "3b47c1e712e14a959851e0c1d8324b38",
       "version_major": 2,
       "version_minor": 0
      },
      "text/plain": [
       "HBox(children=(FloatProgress(value=0.0, description='Downloading', max=2444714899.0, style=ProgressStyle(descr…"
      ]
     },
     "metadata": {
      "tags": []
     },
     "output_type": "display_data"
    },
    {
     "name": "stdout",
     "output_type": "stream",
     "text": [
      "\n"
     ]
    },
    {
     "data": {
      "application/vnd.jupyter.widget-view+json": {
       "model_id": "fcb97ca3d5c04d4e936432c5dda16f2a",
       "version_major": 2,
       "version_minor": 0
      },
      "text/plain": [
       "HBox(children=(FloatProgress(value=0.0, description='Downloading', max=5069051.0, style=ProgressStyle(descript…"
      ]
     },
     "metadata": {
      "tags": []
     },
     "output_type": "display_data"
    },
    {
     "name": "stdout",
     "output_type": "stream",
     "text": [
      "\n"
     ]
    },
    {
     "data": {
      "application/vnd.jupyter.widget-view+json": {
       "model_id": "0ebc4ec83236468781cda67dcf5c01ca",
       "version_major": 2,
       "version_minor": 0
      },
      "text/plain": [
       "HBox(children=(FloatProgress(value=0.0, description='Downloading', max=649.0, style=ProgressStyle(description_…"
      ]
     },
     "metadata": {
      "tags": []
     },
     "output_type": "display_data"
    },
    {
     "name": "stdout",
     "output_type": "stream",
     "text": [
      "\n"
     ]
    },
    {
     "data": {
      "application/vnd.jupyter.widget-view+json": {
       "model_id": "8b12f6add40d46d98cf9df0b605ca1ce",
       "version_major": 2,
       "version_minor": 0
      },
      "text/plain": [
       "HBox(children=(FloatProgress(value=0.0, description='Downloading', max=529.0, style=ProgressStyle(description_…"
      ]
     },
     "metadata": {
      "tags": []
     },
     "output_type": "display_data"
    },
    {
     "name": "stdout",
     "output_type": "stream",
     "text": [
      "\n",
      "Translations:\n",
      "In dieser Liste definieren wir mehrere Sätze.\n",
      "=> In this list we define several sentences. \n",
      "\n",
      "Jeder dieser Sätze wird dann in die Zielsprache übersetzt.\n",
      "=> Each of these sentences is then translated into the target language. \n",
      "\n",
      "Puede especificar en esta lista la oración en varios idiomas.\n",
      "=> You can specify in this list the speech in several languages. \n",
      "\n",
      "El sistema detectará automáticamente el idioma y utilizará el modelo correcto.\n",
      "=> The system will automatically detect the language and use the correct model. \n",
      "\n",
      "\n",
      "\n",
      "Load model: m2m_100_418M\n"
     ]
    },
    {
     "name": "stderr",
     "output_type": "stream",
     "text": [
      "100%|██████████| 89.9k/89.9k [00:00<00:00, 425kB/s]\n"
     ]
    },
    {
     "data": {
      "application/vnd.jupyter.widget-view+json": {
       "model_id": "84eb381b599545e8a4b175477e158dec",
       "version_major": 2,
       "version_minor": 0
      },
      "text/plain": [
       "HBox(children=(FloatProgress(value=0.0, description='Downloading', max=908.0, style=ProgressStyle(description_…"
      ]
     },
     "metadata": {
      "tags": []
     },
     "output_type": "display_data"
    },
    {
     "name": "stdout",
     "output_type": "stream",
     "text": [
      "\n"
     ]
    },
    {
     "data": {
      "application/vnd.jupyter.widget-view+json": {
       "model_id": "3b7e2ffa652645899e60412c02ae7628",
       "version_major": 2,
       "version_minor": 0
      },
      "text/plain": [
       "HBox(children=(FloatProgress(value=0.0, description='Downloading', max=1935796948.0, style=ProgressStyle(descr…"
      ]
     },
     "metadata": {
      "tags": []
     },
     "output_type": "display_data"
    },
    {
     "name": "stdout",
     "output_type": "stream",
     "text": [
      "\n"
     ]
    },
    {
     "data": {
      "application/vnd.jupyter.widget-view+json": {
       "model_id": "7673ebb9b3b942088074ee1b4ad6c989",
       "version_major": 2,
       "version_minor": 0
      },
      "text/plain": [
       "HBox(children=(FloatProgress(value=0.0, description='Downloading', max=3708092.0, style=ProgressStyle(descript…"
      ]
     },
     "metadata": {
      "tags": []
     },
     "output_type": "display_data"
    },
    {
     "name": "stdout",
     "output_type": "stream",
     "text": [
      "\n"
     ]
    },
    {
     "data": {
      "application/vnd.jupyter.widget-view+json": {
       "model_id": "d4ade63bc2c34cb59b1d21f3a05eb7de",
       "version_major": 2,
       "version_minor": 0
      },
      "text/plain": [
       "HBox(children=(FloatProgress(value=0.0, description='Downloading', max=2423393.0, style=ProgressStyle(descript…"
      ]
     },
     "metadata": {
      "tags": []
     },
     "output_type": "display_data"
    },
    {
     "name": "stdout",
     "output_type": "stream",
     "text": [
      "\n"
     ]
    },
    {
     "data": {
      "application/vnd.jupyter.widget-view+json": {
       "model_id": "1c834371c9214c938f9c06e0e8cb883b",
       "version_major": 2,
       "version_minor": 0
      },
      "text/plain": [
       "HBox(children=(FloatProgress(value=0.0, description='Downloading', max=272.0, style=ProgressStyle(description_…"
      ]
     },
     "metadata": {
      "tags": []
     },
     "output_type": "display_data"
    },
    {
     "name": "stdout",
     "output_type": "stream",
     "text": [
      "\n"
     ]
    },
    {
     "data": {
      "application/vnd.jupyter.widget-view+json": {
       "model_id": "ede9adf41d8d4119a1469e6caa6220f9",
       "version_major": 2,
       "version_minor": 0
      },
      "text/plain": [
       "HBox(children=(FloatProgress(value=0.0, description='Downloading', max=1140.0, style=ProgressStyle(description…"
      ]
     },
     "metadata": {
      "tags": []
     },
     "output_type": "display_data"
    },
    {
     "name": "stdout",
     "output_type": "stream",
     "text": [
      "\n",
      "Translations:\n",
      "In dieser Liste definieren wir mehrere Sätze.\n",
      "=> In this list we define several sentences. \n",
      "\n",
      "Jeder dieser Sätze wird dann in die Zielsprache übersetzt.\n",
      "=> Each of these sentences is then translated into the target language. \n",
      "\n",
      "Puede especificar en esta lista la oración en varios idiomas.\n",
      "=> You can specify in this list the prayer in several languages. \n",
      "\n",
      "El sistema detectará automáticamente el idioma y utilizará el modelo correcto.\n",
      "=> The system will automatically detect the language and use the correct model. \n",
      "\n"
     ]
    }
   ],
   "source": [
    "available_models = ['opus-mt', 'mbart50_m2m', 'm2m_100_418M']\n",
    "#Note: EasyNMT also provides the m2m_100_1.2B. But sadly it requires too much RAM to be loaded with the Colab free version here\n",
    "#If you start an empty instance in colab and load the 'm2m_100_1.2B' model, it should work.\n",
    "\n",
    "for model_name in available_models:\n",
    "  print(\"\\n\\nLoad model:\", model_name)\n",
    "  model = EasyNMT(model_name)\n",
    "\n",
    "  sentences = ['In dieser Liste definieren wir mehrere Sätze.',\n",
    "              'Jeder dieser Sätze wird dann in die Zielsprache übersetzt.',\n",
    "              'Puede especificar en esta lista la oración en varios idiomas.',\n",
    "              'El sistema detectará automáticamente el idioma y utilizará el modelo correcto.']\n",
    "  translations = model.translate(sentences, target_lang='en')\n",
    "\n",
    "  print(\"Translations:\")\n",
    "  for sent, trans in zip(sentences, translations):\n",
    "    print(sent)\n",
    "    print(\"=>\", trans, \"\\n\")\n",
    "  del model\n"
   ]
  },
  {
   "cell_type": "markdown",
   "metadata": {
    "id": "wKiOMrnTVABQ"
   },
   "source": [
    "# Translation Directions & Languages\n",
    "To get all available translation directions for a model, you can simply call the following property. An entry like 'af-en' means that you can translate from *af* (Afrikaans) to *en* (English)."
   ]
  },
  {
   "cell_type": "code",
   "execution_count": null,
   "metadata": {
    "colab": {
     "base_uri": "https://localhost:8080/"
    },
    "id": "XcVMLyYSU-5w",
    "outputId": "b31641b7-e165-4e34-dee4-9a5c550bcaf4"
   },
   "outputs": [
    {
     "name": "stdout",
     "output_type": "stream",
     "text": [
      "Language directions:\n",
      "['aav-en', 'aed-es', 'af-de', 'af-en', 'af-eo', 'af-es', 'af-fi', 'af-fr', 'af-nl', 'af-ru', 'af-sv', 'alv-en', 'am-sv', 'ar-de', 'ar-el', 'ar-en', 'ar-eo', 'ar-es', 'ar-fr', 'ar-he', 'ar-it', 'ar-pl', 'ar-ru', 'ar-tr', 'art-en', 'ase-de', 'ase-en', 'ase-es', 'ase-fr', 'ase-sv', 'az-en', 'az-es', 'az-tr', 'bat-en', 'bcl-de', 'bcl-en', 'bcl-es', 'bcl-fi', 'bcl-fr', 'bcl-sv', 'be-es', 'bem-en', 'bem-es', 'bem-fi', 'bem-fr', 'bem-sv', 'ber-en', 'ber-es', 'ber-fr', 'bg-de', 'bg-en', 'bg-eo', 'bg-es', 'bg-fi', 'bg-fr', 'bg-it', 'bg-ru', 'bg-sv', 'bg-tr', 'bg-uk', 'bi-en', 'bi-es', 'bi-fr', 'bi-sv', 'bn-en', 'bnt-en', 'bzs-en', 'bzs-es', 'bzs-fi', 'bzs-fr', 'bzs-sv', 'ca-de', 'ca-en', 'ca-es', 'ca-fr', 'ca-it', 'ca-nl', 'ca-pt', 'ca-uk', 'cau-en', 'ccs-en', 'ceb-en', 'ceb-es', 'ceb-fi', 'ceb-fr', 'ceb-sv', 'cel-en', 'chk-en', 'chk-es', 'chk-fr', 'chk-sv', 'cpf-en', 'crs-de', 'crs-en', 'crs-es', 'crs-fi', 'crs-fr', 'crs-sv', 'cs-de', 'cs-en', 'cs-eo', 'cs-fi', 'cs-fr', 'cs-sv', 'cs-uk', 'csg-es', 'csn-es', 'cus-en', 'cy-en', 'da-de', 'da-en', 'da-eo', 'da-es', 'da-fi', 'da-fr', 'da-no', 'da-ru', 'de-af', 'de-ar', 'de-ase', 'de-bcl', 'de-bg', 'de-bi', 'de-bzs', 'de-ca', 'de-crs', 'de-cs', 'de-da', 'de-ee', 'de-efi', 'de-el', 'de-en', 'de-eo', 'de-es', 'de-et', 'de-eu', 'de-fi', 'de-fj', 'de-fr', 'de-gaa', 'de-gil', 'de-guw', 'de-ha', 'de-he', 'de-hil', 'de-ho', 'de-hr', 'de-ht', 'de-hu', 'de-ig', 'de-ilo', 'de-is', 'de-iso', 'de-it', 'de-kg', 'de-ln', 'de-loz', 'de-lt', 'de-lua', 'de-ms', 'de-mt', 'de-niu', 'de-nl', 'de-no', 'de-nso', 'de-ny', 'de-pag', 'de-pap', 'de-pis', 'de-pl', 'de-pon', 'de-tl', 'de-uk', 'de-vi', 'dra-en', 'ee-de', 'ee-en', 'ee-es', 'ee-fi', 'ee-fr', 'ee-sv', 'efi-de', 'efi-en', 'efi-fi', 'efi-fr', 'efi-sv', 'el-ar', 'el-eo', 'el-fi', 'el-fr', 'el-sv', 'en-aav', 'en-af', 'en-alv', 'en-ar', 'en-az', 'en-bat', 'en-bcl', 'en-bem', 'en-ber', 'en-bg', 'en-bi', 'en-bnt', 'en-bzs', 'en-ca', 'en-ceb', 'en-cel', 'en-chk', 'en-cpf', 'en-crs', 'en-cs', 'en-cus', 'en-cy', 'en-da', 'en-de', 'en-dra', 'en-ee', 'en-efi', 'en-el', 'en-eo', 'en-es', 'en-et', 'en-eu', 'en-euq', 'en-fi', 'en-fj', 'en-fr', 'en-ga', 'en-gaa', 'en-gil', 'en-gl', 'en-grk', 'en-guw', 'en-gv', 'en-ha', 'en-he', 'en-hi', 'en-hil', 'en-ho', 'en-ht', 'en-hu', 'en-hy', 'en-id', 'en-ig', 'en-ilo', 'en-is', 'en-iso', 'en-it', 'en-jap', 'en-kg', 'en-kj', 'en-kqn', 'en-kwn', 'en-kwy', 'en-lg', 'en-ln', 'en-loz', 'en-lu', 'en-lua', 'en-lue', 'en-lun', 'en-luo', 'en-lus', 'en-map', 'en-mfe', 'en-mg', 'en-mh', 'en-mk', 'en-mkh', 'en-ml', 'en-mos', 'en-mr', 'en-mt', 'en-mul', 'en-ng', 'en-nic', 'en-niu', 'en-nl', 'en-nso', 'en-ny', 'en-nyk', 'en-om', 'en-pag', 'en-pap', 'en-phi', 'en-pis', 'en-pon', 'en-poz', 'en-pqe', 'en-pqw', 'en-rn', 'en-rnd', 'en-ro', 'en-roa', 'en-ru', 'en-run', 'en-rw', 'en-sal', 'en-sg', 'en-sit', 'en-sk', 'en-sm', 'en-sn', 'en-sq', 'en-ss', 'en-st', 'en-sv', 'en-sw', 'en-swc', 'en-tdt', 'en-ti', 'en-tiv', 'en-tl', 'en-tll', 'en-tn', 'en-to', 'en-toi', 'en-tpi', 'en-trk', 'en-ts', 'en-tut', 'en-tvl', 'en-tw', 'en-ty', 'en-uk', 'en-umb', 'en-ur', 'en-vi', 'en-xh', 'en-zh', 'eo-af', 'eo-bg', 'eo-cs', 'eo-da', 'eo-de', 'eo-el', 'eo-en', 'eo-es', 'eo-fi', 'eo-fr', 'eo-he', 'eo-hu', 'eo-it', 'eo-nl', 'eo-pl', 'eo-pt', 'eo-ro', 'eo-ru', 'eo-sh', 'eo-sv', 'es-aed', 'es-af', 'es-ar', 'es-ase', 'es-bcl', 'es-ber', 'es-bg', 'es-bi', 'es-bzs', 'es-ca', 'es-ceb', 'es-crs', 'es-cs', 'es-csg', 'es-csn', 'es-da', 'es-de', 'es-ee', 'es-efi', 'es-el', 'es-en', 'es-eo', 'es-et', 'es-eu', 'es-fi', 'es-fj', 'es-fr', 'es-gaa', 'es-gil', 'es-gl', 'es-guw', 'es-ha', 'es-he', 'es-hil', 'es-ho', 'es-hr', 'es-ht', 'es-id', 'es-ig', 'es-ilo', 'es-is', 'es-iso', 'es-it', 'es-kg', 'es-ln', 'es-loz', 'es-lt', 'es-lua', 'es-lus', 'es-mfs', 'es-mk', 'es-mt', 'es-niu', 'es-nl', 'es-no', 'es-nso', 'es-ny', 'es-pag', 'es-pap', 'es-pis', 'es-pl', 'es-pon', 'es-prl', 'es-rn', 'es-ro', 'es-ru', 'es-rw', 'es-sg', 'es-sl', 'es-sm', 'es-sn', 'es-srn', 'es-st', 'es-swc', 'es-tl', 'es-tll', 'es-tn', 'es-to', 'es-tpi', 'es-tvl', 'es-tw', 'es-ty', 'es-tzo', 'es-uk', 'es-ve', 'es-vi', 'es-war', 'es-wls', 'es-xh', 'es-yo', 'es-yua', 'es-zai', 'et-de', 'et-en', 'et-es', 'et-fi', 'et-fr', 'et-ru', 'et-sv', 'eu-de', 'eu-en', 'eu-es', 'eu-ru', 'euq-en', 'fi-af', 'fi-bcl', 'fi-bem', 'fi-bg', 'fi-bzs', 'fi-ceb', 'fi-crs', 'fi-cs', 'fi-de', 'fi-ee', 'fi-efi', 'fi-el', 'fi-en', 'fi-eo', 'fi-es', 'fi-et', 'fi-fj', 'fi-fr', 'fi-fse', 'fi-gaa', 'fi-gil', 'fi-guw', 'fi-ha', 'fi-he', 'fi-hil', 'fi-ho', 'fi-hr', 'fi-ht', 'fi-hu', 'fi-id', 'fi-ig', 'fi-ilo', 'fi-is', 'fi-iso', 'fi-it', 'fi-kg', 'fi-kqn', 'fi-lg', 'fi-ln', 'fi-lu', 'fi-lua', 'fi-lue', 'fi-lus', 'fi-lv', 'fi-mfe', 'fi-mg', 'fi-mh', 'fi-mk', 'fi-mos', 'fi-mt', 'fi-niu', 'fi-nl', 'fi-no', 'fi-nso', 'fi-ny', 'fi-pag', 'fi-pap', 'fi-pis', 'fi-pon', 'fi-ro', 'fi-ru', 'fi-run', 'fi-rw', 'fi-sg', 'fi-sk', 'fi-sl', 'fi-sm', 'fi-sn', 'fi-sq', 'fi-srn', 'fi-st', 'fi-sv', 'fi-sw', 'fi-swc', 'fi-tiv', 'fi-tll', 'fi-tn', 'fi-to', 'fi-toi', 'fi-tpi', 'fi-tr', 'fi-ts', 'fi-tvl', 'fi-tw', 'fi-ty', 'fi-uk', 'fi-ve', 'fi-war', 'fi-wls', 'fi-xh', 'fi-yap', 'fi-yo', 'fi-zne', 'fj-en', 'fj-fr', 'fr-af', 'fr-ar', 'fr-ase', 'fr-bcl', 'fr-bem', 'fr-ber', 'fr-bg', 'fr-bi', 'fr-bzs', 'fr-ca', 'fr-ceb', 'fr-crs', 'fr-de', 'fr-ee', 'fr-efi', 'fr-el', 'fr-en', 'fr-eo', 'fr-es', 'fr-fj', 'fr-gaa', 'fr-gil', 'fr-guw', 'fr-ha', 'fr-he', 'fr-hil', 'fr-ho', 'fr-hr', 'fr-ht', 'fr-hu', 'fr-id', 'fr-ig', 'fr-ilo', 'fr-iso', 'fr-kg', 'fr-kqn', 'fr-kwy', 'fr-lg', 'fr-ln', 'fr-loz', 'fr-lu', 'fr-lua', 'fr-lue', 'fr-lus', 'fr-mfe', 'fr-mh', 'fr-mos', 'fr-ms', 'fr-mt', 'fr-niu', 'fr-no', 'fr-nso', 'fr-ny', 'fr-pag', 'fr-pap', 'fr-pis', 'fr-pl', 'fr-pon', 'fr-rnd', 'fr-ro', 'fr-ru', 'fr-run', 'fr-rw', 'fr-sg', 'fr-sk', 'fr-sl', 'fr-sm', 'fr-sn', 'fr-srn', 'fr-st', 'fr-sv', 'fr-swc', 'fr-tiv', 'fr-tl', 'fr-tll', 'fr-tn', 'fr-to', 'fr-tpi', 'fr-ts', 'fr-tum', 'fr-tvl', 'fr-tw', 'fr-ty', 'fr-uk', 'fr-ve', 'fr-vi', 'fr-war', 'fr-wls', 'fr-xh', 'fr-yap', 'fr-yo', 'fr-zne', 'fse-fi', 'ga-en', 'gaa-de', 'gaa-en', 'gaa-es', 'gaa-fi', 'gaa-fr', 'gaa-sv', 'gil-en', 'gil-es', 'gil-fi', 'gil-fr', 'gil-sv', 'gl-en', 'gl-es', 'gl-pt', 'grk-en', 'guw-de', 'guw-en', 'guw-es', 'guw-fi', 'guw-fr', 'guw-sv', 'gv-en', 'ha-en', 'ha-es', 'ha-fi', 'ha-fr', 'ha-sv', 'he-ar', 'he-de', 'he-eo', 'he-es', 'he-fi', 'he-fr', 'he-it', 'he-ru', 'he-sv', 'he-uk', 'hi-en', 'hi-ur', 'hil-de', 'hil-en', 'hil-fi', 'ho-en', 'hr-es', 'hr-fi', 'hr-fr', 'hr-sv', 'ht-en', 'ht-es', 'ht-fi', 'ht-fr', 'ht-sv', 'hu-de', 'hu-en', 'hu-eo', 'hu-fi', 'hu-fr', 'hu-sv', 'hu-uk', 'hy-en', 'hy-ru', 'id-en', 'id-es', 'id-fi', 'id-fr', 'id-sv', 'ig-de', 'ig-en', 'ig-es', 'ig-fi', 'ig-fr', 'ig-sv', 'ilo-de', 'ilo-en', 'ilo-es', 'ilo-fi', 'ilo-sv', 'is-de', 'is-en', 'is-eo', 'is-es', 'is-fi', 'is-fr', 'is-it', 'is-sv', 'iso-en', 'iso-es', 'iso-fi', 'iso-fr', 'iso-sv', 'it-ar', 'it-bg', 'it-ca', 'it-de', 'it-en', 'it-eo', 'it-es', 'it-fr', 'it-is', 'it-lt', 'it-ms', 'it-sv', 'it-uk', 'it-vi', 'ja-ar', 'ja-bg', 'ja-da', 'ja-de', 'ja-en', 'ja-es', 'ja-fi', 'ja-fr', 'ja-he', 'ja-hu', 'ja-it', 'ja-ms', 'ja-nl', 'ja-pl', 'ja-pt', 'ja-ru', 'ja-sh', 'ja-sv', 'ja-tr', 'ja-vi', 'jap-en', 'ka-en', 'ka-ru', 'kab-en', 'kg-en', 'kg-es', 'kg-fr', 'kg-sv', 'kj-en', 'kl-en', 'ko-de', 'ko-en', 'ko-es', 'ko-fi', 'ko-fr', 'ko-hu', 'ko-ru', 'ko-sv', 'kqn-en', 'kqn-es', 'kqn-fr', 'kqn-sv', 'kwn-en', 'kwy-en', 'kwy-fr', 'kwy-sv', 'lg-en', 'lg-es', 'lg-fi', 'lg-fr', 'lg-sv', 'ln-de', 'ln-en', 'ln-es', 'ln-fr', 'loz-de', 'loz-en', 'loz-es', 'loz-fi', 'loz-fr', 'loz-sv', 'lt-de', 'lt-eo', 'lt-es', 'lt-fr', 'lt-it', 'lt-pl', 'lt-ru', 'lt-sv', 'lt-tr', 'lu-en', 'lu-es', 'lu-fi', 'lu-fr', 'lu-sv', 'lua-en', 'lua-es', 'lua-fi', 'lua-fr', 'lua-sv', 'lue-en', 'lue-es', 'lue-fi', 'lue-fr', 'lue-sv', 'lun-en', 'luo-en', 'lus-en', 'lus-es', 'lus-fi', 'lus-fr', 'lus-sv', 'lv-en', 'lv-es', 'lv-fi', 'lv-fr', 'lv-ru', 'lv-sv', 'mfe-en', 'mfe-es', 'mfs-es', 'mg-en', 'mg-es', 'mh-en', 'mh-es', 'mh-fi', 'mk-en', 'mk-es', 'mk-fi', 'mk-fr', 'mkh-en', 'ml-en', 'mos-en', 'mr-en', 'ms-de', 'ms-fr', 'ms-it', 'mt-en', 'mt-es', 'mt-fi', 'mt-fr', 'mt-sv', 'mul-en', 'ng-en', 'nic-en', 'niu-de', 'niu-en', 'niu-es', 'niu-fi', 'niu-fr', 'niu-sv', 'nl-af', 'nl-ca', 'nl-en', 'nl-eo', 'nl-es', 'nl-fi', 'nl-fr', 'nl-no', 'nl-sv', 'nl-uk', 'no-da', 'no-de', 'no-es', 'no-fi', 'no-fr', 'no-nl', 'no-pl', 'no-ru', 'no-sv', 'no-uk', 'nso-de', 'nso-en', 'nso-es', 'nso-fi', 'nso-fr', 'nso-sv', 'ny-de', 'ny-en', 'ny-es', 'nyk-en', 'om-en', 'pa-en', 'pag-de', 'pag-en', 'pag-es', 'pag-fi', 'pag-sv', 'pap-de', 'pap-en', 'pap-es', 'pap-fi', 'pap-fr', 'phi-en', 'pis-en', 'pis-es', 'pis-fi', 'pis-fr', 'pis-sv', 'pl-ar', 'pl-de', 'pl-en', 'pl-eo', 'pl-es', 'pl-fr', 'pl-lt', 'pl-no', 'pl-sv', 'pl-uk', 'pon-en', 'pon-es', 'pon-fi', 'pon-fr', 'pon-sv', 'pqe-en', 'prl-es', 'pt-ca', 'pt-eo', 'pt-gl', 'pt-tl', 'pt-uk', 'rn-de', 'rn-en', 'rn-es', 'rn-fr', 'rn-ru', 'rnd-en', 'rnd-fr', 'rnd-sv', 'ro-eo', 'ro-fi', 'ro-fr', 'ro-sv', 'roa-en', 'ru-af', 'ru-ar', 'ru-bg', 'ru-da', 'ru-en', 'ru-eo', 'ru-es', 'ru-et', 'ru-eu', 'ru-fi', 'ru-fr', 'ru-he', 'ru-hy', 'ru-lt', 'ru-lv', 'ru-no', 'ru-sl', 'ru-sv', 'ru-uk', 'ru-vi', 'run-en', 'run-es', 'run-sv', 'rw-en', 'rw-es', 'rw-fr', 'rw-sv', 'sal-en', 'sg-en', 'sg-es', 'sg-fi', 'sg-fr', 'sg-sv', 'sh-eo', 'sh-uk', 'sk-en', 'sk-es', 'sk-fi', 'sk-fr', 'sk-sv', 'sl-es', 'sl-fi', 'sl-fr', 'sl-ru', 'sl-sv', 'sl-uk', 'sm-en', 'sm-es', 'sm-fr', 'sn-en', 'sn-es', 'sn-fr', 'sn-sv', 'sq-en', 'sq-es', 'sq-sv', 'srn-en', 'srn-es', 'srn-fr', 'srn-sv', 'ss-en', 'ssp-es', 'st-en', 'st-es', 'st-fi', 'st-fr', 'st-sv', 'sv-af', 'sv-ase', 'sv-bcl', 'sv-bem', 'sv-bg', 'sv-bi', 'sv-bzs', 'sv-ceb', 'sv-chk', 'sv-crs', 'sv-cs', 'sv-ee', 'sv-efi', 'sv-el', 'sv-en', 'sv-eo', 'sv-es', 'sv-et', 'sv-fi', 'sv-fj', 'sv-fr', 'sv-gaa', 'sv-gil', 'sv-guw', 'sv-ha', 'sv-he', 'sv-hil', 'sv-ho', 'sv-hr', 'sv-ht', 'sv-hu', 'sv-id', 'sv-ig', 'sv-ilo', 'sv-is', 'sv-iso', 'sv-kg', 'sv-kqn', 'sv-kwy', 'sv-lg', 'sv-ln', 'sv-lu', 'sv-lua', 'sv-lue', 'sv-lus', 'sv-lv', 'sv-mfe', 'sv-mh', 'sv-mos', 'sv-mt', 'sv-niu', 'sv-nl', 'sv-no', 'sv-nso', 'sv-ny', 'sv-pag', 'sv-pap', 'sv-pis', 'sv-pon', 'sv-rnd', 'sv-ro', 'sv-ru', 'sv-run', 'sv-rw', 'sv-sg', 'sv-sk', 'sv-sl', 'sv-sm', 'sv-sn', 'sv-sq', 'sv-srn', 'sv-st', 'sv-swc', 'sv-th', 'sv-tiv', 'sv-tll', 'sv-tn', 'sv-to', 'sv-toi', 'sv-tpi', 'sv-ts', 'sv-tum', 'sv-tvl', 'sv-tw', 'sv-ty', 'sv-uk', 'sv-umb', 'sv-ve', 'sv-war', 'sv-wls', 'sv-xh', 'sv-yap', 'sv-yo', 'sv-zne', 'swc-en', 'swc-es', 'swc-fi', 'swc-fr', 'swc-sv', 'taw-en', 'th-en', 'th-fr', 'ti-en', 'tiv-en', 'tiv-fr', 'tiv-sv', 'tl-de', 'tl-en', 'tl-es', 'tl-pt', 'tll-en', 'tll-es', 'tll-fi', 'tll-fr', 'tll-sv', 'tn-en', 'tn-es', 'tn-fr', 'tn-sv', 'to-en', 'to-es', 'to-fr', 'to-sv', 'toi-en', 'toi-es', 'toi-fi', 'toi-fr', 'toi-sv', 'tpi-en', 'tpi-sv', 'tr-ar', 'tr-az', 'tr-en', 'tr-eo', 'tr-es', 'tr-fr', 'tr-lt', 'tr-sv', 'tr-uk', 'trk-en', 'ts-en', 'ts-es', 'ts-fi', 'ts-fr', 'ts-sv', 'tum-en', 'tum-es', 'tum-fr', 'tum-sv', 'tvl-en', 'tvl-es', 'tvl-fi', 'tvl-fr', 'tvl-sv', 'tw-es', 'tw-fi', 'tw-fr', 'tw-sv', 'ty-es', 'ty-fi', 'ty-fr', 'ty-sv', 'tzo-es', 'uk-bg', 'uk-ca', 'uk-cs', 'uk-de', 'uk-en', 'uk-es', 'uk-fi', 'uk-fr', 'uk-he', 'uk-hu', 'uk-it', 'uk-nl', 'uk-no', 'uk-pl', 'uk-pt', 'uk-ru', 'uk-sh', 'uk-sl', 'uk-sv', 'uk-tr', 'umb-en', 'ur-en', 've-en', 've-es', 'vi-de', 'vi-en', 'vi-eo', 'vi-es', 'vi-fr', 'vi-it', 'vi-ru', 'vsl-es', 'wa-en', 'wal-en', 'war-en', 'war-es', 'war-fi', 'war-fr', 'war-sv', 'wls-en', 'wls-fr', 'wls-sv', 'xh-en', 'xh-es', 'xh-fr', 'xh-sv', 'yap-en', 'yap-fr', 'yap-sv', 'yo-en', 'yo-es', 'yo-fi', 'yo-fr', 'yo-sv', 'zai-es', 'zh-bg', 'zh-de', 'zh-en', 'zh-fi', 'zh-he', 'zh-it', 'zh-ms', 'zh-nl', 'zh-sv', 'zh-uk', 'zh-vi', 'zne-es', 'zne-fi', 'zne-fr', 'zne-sv']\n"
     ]
    }
   ],
   "source": [
    "model = EasyNMT('opus-mt')\n",
    "print(\"Language directions:\")\n",
    "print(sorted(list(model.lang_pairs)))"
   ]
  },
  {
   "cell_type": "markdown",
   "metadata": {
    "id": "C2nw9IIgVV12"
   },
   "source": [
    "To check which languages are supported, you can use the following method:"
   ]
  },
  {
   "cell_type": "code",
   "execution_count": null,
   "metadata": {
    "colab": {
     "base_uri": "https://localhost:8080/"
    },
    "id": "YB_mNkawVU9c",
    "outputId": "f2a7d4c5-3991-4f2c-c783-4bf58dff5272"
   },
   "outputs": [
    {
     "name": "stdout",
     "output_type": "stream",
     "text": [
      "All Languages:\n",
      "['aav', 'aed', 'af', 'alv', 'am', 'ar', 'art', 'ase', 'az', 'bat', 'bcl', 'be', 'bem', 'ber', 'bg', 'bi', 'bn', 'bnt', 'bzs', 'ca', 'cau', 'ccs', 'ceb', 'cel', 'chk', 'cpf', 'crs', 'cs', 'csg', 'csn', 'cus', 'cy', 'da', 'de', 'dra', 'ee', 'efi', 'el', 'en', 'eo', 'es', 'et', 'eu', 'euq', 'fi', 'fj', 'fr', 'fse', 'ga', 'gaa', 'gil', 'gl', 'grk', 'guw', 'gv', 'ha', 'he', 'hi', 'hil', 'ho', 'hr', 'ht', 'hu', 'hy', 'id', 'ig', 'ilo', 'is', 'iso', 'it', 'ja', 'jap', 'ka', 'kab', 'kg', 'kj', 'kl', 'ko', 'kqn', 'kwn', 'kwy', 'lg', 'ln', 'loz', 'lt', 'lu', 'lua', 'lue', 'lun', 'luo', 'lus', 'lv', 'map', 'mfe', 'mfs', 'mg', 'mh', 'mk', 'mkh', 'ml', 'mos', 'mr', 'ms', 'mt', 'mul', 'ng', 'nic', 'niu', 'nl', 'no', 'nso', 'ny', 'nyk', 'om', 'pa', 'pag', 'pap', 'phi', 'pis', 'pl', 'pon', 'poz', 'pqe', 'pqw', 'prl', 'pt', 'rn', 'rnd', 'ro', 'roa', 'ru', 'run', 'rw', 'sal', 'sg', 'sh', 'sit', 'sk', 'sl', 'sm', 'sn', 'sq', 'srn', 'ss', 'ssp', 'st', 'sv', 'sw', 'swc', 'taw', 'tdt', 'th', 'ti', 'tiv', 'tl', 'tll', 'tn', 'to', 'toi', 'tpi', 'tr', 'trk', 'ts', 'tum', 'tut', 'tvl', 'tw', 'ty', 'tzo', 'uk', 'umb', 'ur', 've', 'vi', 'vsl', 'wa', 'wal', 'war', 'wls', 'xh', 'yap', 'yo', 'yua', 'zai', 'zh', 'zne']\n",
      "\n",
      "\n",
      "All languages with source_lang=en. I.e., we can translate English (en) to these languages.\n",
      "['aav', 'af', 'alv', 'ar', 'az', 'bat', 'bcl', 'bem', 'ber', 'bg', 'bi', 'bnt', 'bzs', 'ca', 'ceb', 'cel', 'chk', 'cpf', 'crs', 'cs', 'cus', 'cy', 'da', 'de', 'dra', 'ee', 'efi', 'el', 'eo', 'es', 'et', 'eu', 'euq', 'fi', 'fj', 'fr', 'ga', 'gaa', 'gil', 'gl', 'grk', 'guw', 'gv', 'ha', 'he', 'hi', 'hil', 'ho', 'ht', 'hu', 'hy', 'id', 'ig', 'ilo', 'is', 'iso', 'it', 'jap', 'kg', 'kj', 'kqn', 'kwn', 'kwy', 'lg', 'ln', 'loz', 'lu', 'lua', 'lue', 'lun', 'luo', 'lus', 'map', 'mfe', 'mg', 'mh', 'mk', 'mkh', 'ml', 'mos', 'mr', 'mt', 'mul', 'ng', 'nic', 'niu', 'nl', 'nso', 'ny', 'nyk', 'om', 'pag', 'pap', 'phi', 'pis', 'pon', 'poz', 'pqe', 'pqw', 'rn', 'rnd', 'ro', 'roa', 'ru', 'run', 'rw', 'sal', 'sg', 'sit', 'sk', 'sm', 'sn', 'sq', 'ss', 'st', 'sv', 'sw', 'swc', 'tdt', 'ti', 'tiv', 'tl', 'tll', 'tn', 'to', 'toi', 'tpi', 'trk', 'ts', 'tut', 'tvl', 'tw', 'ty', 'uk', 'umb', 'ur', 'vi', 'xh', 'zh']\n",
      "\n",
      "\n",
      "All languages with target_lang=de. I.e., we can translate from these languages to German (de).\n",
      "['af', 'ar', 'ase', 'bcl', 'bg', 'ca', 'crs', 'cs', 'da', 'ee', 'efi', 'en', 'eo', 'es', 'et', 'eu', 'fi', 'fr', 'gaa', 'guw', 'he', 'hil', 'hu', 'ig', 'ilo', 'is', 'it', 'ja', 'ko', 'ln', 'loz', 'lt', 'ms', 'niu', 'no', 'nso', 'ny', 'pag', 'pap', 'pl', 'rn', 'tl', 'uk', 'vi', 'zh']\n"
     ]
    }
   ],
   "source": [
    "print(\"All Languages:\")\n",
    "print(model.get_languages())\n",
    "\n",
    "print(\"\\n\\nAll languages with source_lang=en. I.e., we can translate English (en) to these languages.\")\n",
    "print(model.get_languages(source_lang='en'))\n",
    "\n",
    "print(\"\\n\\nAll languages with target_lang=de. I.e., we can translate from these languages to German (de).\")\n",
    "print(model.get_languages(target_lang='de'))"
   ]
  }
 ],
 "metadata": {
  "accelerator": "GPU",
  "colab": {
   "gpuType": "T4",
   "provenance": []
  },
  "kernelspec": {
   "display_name": "Python 3",
   "name": "python3"
  },
 "nbformat": 4,
 "nbformat_minor": 0
}

